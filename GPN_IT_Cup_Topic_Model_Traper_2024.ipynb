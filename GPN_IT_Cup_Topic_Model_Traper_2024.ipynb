{
  "nbformat": 4,
  "nbformat_minor": 0,
  "metadata": {
    "colab": {
      "provenance": [],
      "collapsed_sections": [
        "yD3EQBUh22eS"
      ],
      "gpuType": "T4"
    },
    "kernelspec": {
      "name": "python3",
      "display_name": "Python 3"
    },
    "language_info": {
      "name": "python"
    },
    "accelerator": "GPU",
    "widgets": {
      "application/vnd.jupyter.widget-state+json": {
        "c1d9b5c4ba174d4aa6513674d5319331": {
          "model_module": "@jupyter-widgets/controls",
          "model_name": "HBoxModel",
          "model_module_version": "1.5.0",
          "state": {
            "_dom_classes": [],
            "_model_module": "@jupyter-widgets/controls",
            "_model_module_version": "1.5.0",
            "_model_name": "HBoxModel",
            "_view_count": null,
            "_view_module": "@jupyter-widgets/controls",
            "_view_module_version": "1.5.0",
            "_view_name": "HBoxView",
            "box_style": "",
            "children": [
              "IPY_MODEL_fbbc09c4cd5d4b51b48407716330e800",
              "IPY_MODEL_9f358ae284ff48be8303d03608168c20",
              "IPY_MODEL_3c5871ad0a8f4c92b5c7d233ff87571f"
            ],
            "layout": "IPY_MODEL_64ce288bcbc9414a8bf15560305ed893"
          }
        },
        "fbbc09c4cd5d4b51b48407716330e800": {
          "model_module": "@jupyter-widgets/controls",
          "model_name": "HTMLModel",
          "model_module_version": "1.5.0",
          "state": {
            "_dom_classes": [],
            "_model_module": "@jupyter-widgets/controls",
            "_model_module_version": "1.5.0",
            "_model_name": "HTMLModel",
            "_view_count": null,
            "_view_module": "@jupyter-widgets/controls",
            "_view_module_version": "1.5.0",
            "_view_name": "HTMLView",
            "description": "",
            "description_tooltip": null,
            "layout": "IPY_MODEL_8ac8947df2fe4a25a7638b9fc95f6ed4",
            "placeholder": "​",
            "style": "IPY_MODEL_fe1def1040b04ab2bbfe907e396b7410",
            "value": "tokenizer_config.json: 100%"
          }
        },
        "9f358ae284ff48be8303d03608168c20": {
          "model_module": "@jupyter-widgets/controls",
          "model_name": "FloatProgressModel",
          "model_module_version": "1.5.0",
          "state": {
            "_dom_classes": [],
            "_model_module": "@jupyter-widgets/controls",
            "_model_module_version": "1.5.0",
            "_model_name": "FloatProgressModel",
            "_view_count": null,
            "_view_module": "@jupyter-widgets/controls",
            "_view_module_version": "1.5.0",
            "_view_name": "ProgressView",
            "bar_style": "success",
            "description": "",
            "description_tooltip": null,
            "layout": "IPY_MODEL_097ebf749d2544b09a73dec3c75ef5ef",
            "max": 1737,
            "min": 0,
            "orientation": "horizontal",
            "style": "IPY_MODEL_6dc30461eb794349b5becb2442b3a4c0",
            "value": 1737
          }
        },
        "3c5871ad0a8f4c92b5c7d233ff87571f": {
          "model_module": "@jupyter-widgets/controls",
          "model_name": "HTMLModel",
          "model_module_version": "1.5.0",
          "state": {
            "_dom_classes": [],
            "_model_module": "@jupyter-widgets/controls",
            "_model_module_version": "1.5.0",
            "_model_name": "HTMLModel",
            "_view_count": null,
            "_view_module": "@jupyter-widgets/controls",
            "_view_module_version": "1.5.0",
            "_view_name": "HTMLView",
            "description": "",
            "description_tooltip": null,
            "layout": "IPY_MODEL_a1357ee52ea24973a2c5239f75af65f3",
            "placeholder": "​",
            "style": "IPY_MODEL_6ac264040db34631a9c583c5f6a16f3e",
            "value": " 1.74k/1.74k [00:00&lt;00:00, 75.1kB/s]"
          }
        },
        "64ce288bcbc9414a8bf15560305ed893": {
          "model_module": "@jupyter-widgets/base",
          "model_name": "LayoutModel",
          "model_module_version": "1.2.0",
          "state": {
            "_model_module": "@jupyter-widgets/base",
            "_model_module_version": "1.2.0",
            "_model_name": "LayoutModel",
            "_view_count": null,
            "_view_module": "@jupyter-widgets/base",
            "_view_module_version": "1.2.0",
            "_view_name": "LayoutView",
            "align_content": null,
            "align_items": null,
            "align_self": null,
            "border": null,
            "bottom": null,
            "display": null,
            "flex": null,
            "flex_flow": null,
            "grid_area": null,
            "grid_auto_columns": null,
            "grid_auto_flow": null,
            "grid_auto_rows": null,
            "grid_column": null,
            "grid_gap": null,
            "grid_row": null,
            "grid_template_areas": null,
            "grid_template_columns": null,
            "grid_template_rows": null,
            "height": null,
            "justify_content": null,
            "justify_items": null,
            "left": null,
            "margin": null,
            "max_height": null,
            "max_width": null,
            "min_height": null,
            "min_width": null,
            "object_fit": null,
            "object_position": null,
            "order": null,
            "overflow": null,
            "overflow_x": null,
            "overflow_y": null,
            "padding": null,
            "right": null,
            "top": null,
            "visibility": null,
            "width": null
          }
        },
        "8ac8947df2fe4a25a7638b9fc95f6ed4": {
          "model_module": "@jupyter-widgets/base",
          "model_name": "LayoutModel",
          "model_module_version": "1.2.0",
          "state": {
            "_model_module": "@jupyter-widgets/base",
            "_model_module_version": "1.2.0",
            "_model_name": "LayoutModel",
            "_view_count": null,
            "_view_module": "@jupyter-widgets/base",
            "_view_module_version": "1.2.0",
            "_view_name": "LayoutView",
            "align_content": null,
            "align_items": null,
            "align_self": null,
            "border": null,
            "bottom": null,
            "display": null,
            "flex": null,
            "flex_flow": null,
            "grid_area": null,
            "grid_auto_columns": null,
            "grid_auto_flow": null,
            "grid_auto_rows": null,
            "grid_column": null,
            "grid_gap": null,
            "grid_row": null,
            "grid_template_areas": null,
            "grid_template_columns": null,
            "grid_template_rows": null,
            "height": null,
            "justify_content": null,
            "justify_items": null,
            "left": null,
            "margin": null,
            "max_height": null,
            "max_width": null,
            "min_height": null,
            "min_width": null,
            "object_fit": null,
            "object_position": null,
            "order": null,
            "overflow": null,
            "overflow_x": null,
            "overflow_y": null,
            "padding": null,
            "right": null,
            "top": null,
            "visibility": null,
            "width": null
          }
        },
        "fe1def1040b04ab2bbfe907e396b7410": {
          "model_module": "@jupyter-widgets/controls",
          "model_name": "DescriptionStyleModel",
          "model_module_version": "1.5.0",
          "state": {
            "_model_module": "@jupyter-widgets/controls",
            "_model_module_version": "1.5.0",
            "_model_name": "DescriptionStyleModel",
            "_view_count": null,
            "_view_module": "@jupyter-widgets/base",
            "_view_module_version": "1.2.0",
            "_view_name": "StyleView",
            "description_width": ""
          }
        },
        "097ebf749d2544b09a73dec3c75ef5ef": {
          "model_module": "@jupyter-widgets/base",
          "model_name": "LayoutModel",
          "model_module_version": "1.2.0",
          "state": {
            "_model_module": "@jupyter-widgets/base",
            "_model_module_version": "1.2.0",
            "_model_name": "LayoutModel",
            "_view_count": null,
            "_view_module": "@jupyter-widgets/base",
            "_view_module_version": "1.2.0",
            "_view_name": "LayoutView",
            "align_content": null,
            "align_items": null,
            "align_self": null,
            "border": null,
            "bottom": null,
            "display": null,
            "flex": null,
            "flex_flow": null,
            "grid_area": null,
            "grid_auto_columns": null,
            "grid_auto_flow": null,
            "grid_auto_rows": null,
            "grid_column": null,
            "grid_gap": null,
            "grid_row": null,
            "grid_template_areas": null,
            "grid_template_columns": null,
            "grid_template_rows": null,
            "height": null,
            "justify_content": null,
            "justify_items": null,
            "left": null,
            "margin": null,
            "max_height": null,
            "max_width": null,
            "min_height": null,
            "min_width": null,
            "object_fit": null,
            "object_position": null,
            "order": null,
            "overflow": null,
            "overflow_x": null,
            "overflow_y": null,
            "padding": null,
            "right": null,
            "top": null,
            "visibility": null,
            "width": null
          }
        },
        "6dc30461eb794349b5becb2442b3a4c0": {
          "model_module": "@jupyter-widgets/controls",
          "model_name": "ProgressStyleModel",
          "model_module_version": "1.5.0",
          "state": {
            "_model_module": "@jupyter-widgets/controls",
            "_model_module_version": "1.5.0",
            "_model_name": "ProgressStyleModel",
            "_view_count": null,
            "_view_module": "@jupyter-widgets/base",
            "_view_module_version": "1.2.0",
            "_view_name": "StyleView",
            "bar_color": null,
            "description_width": ""
          }
        },
        "a1357ee52ea24973a2c5239f75af65f3": {
          "model_module": "@jupyter-widgets/base",
          "model_name": "LayoutModel",
          "model_module_version": "1.2.0",
          "state": {
            "_model_module": "@jupyter-widgets/base",
            "_model_module_version": "1.2.0",
            "_model_name": "LayoutModel",
            "_view_count": null,
            "_view_module": "@jupyter-widgets/base",
            "_view_module_version": "1.2.0",
            "_view_name": "LayoutView",
            "align_content": null,
            "align_items": null,
            "align_self": null,
            "border": null,
            "bottom": null,
            "display": null,
            "flex": null,
            "flex_flow": null,
            "grid_area": null,
            "grid_auto_columns": null,
            "grid_auto_flow": null,
            "grid_auto_rows": null,
            "grid_column": null,
            "grid_gap": null,
            "grid_row": null,
            "grid_template_areas": null,
            "grid_template_columns": null,
            "grid_template_rows": null,
            "height": null,
            "justify_content": null,
            "justify_items": null,
            "left": null,
            "margin": null,
            "max_height": null,
            "max_width": null,
            "min_height": null,
            "min_width": null,
            "object_fit": null,
            "object_position": null,
            "order": null,
            "overflow": null,
            "overflow_x": null,
            "overflow_y": null,
            "padding": null,
            "right": null,
            "top": null,
            "visibility": null,
            "width": null
          }
        },
        "6ac264040db34631a9c583c5f6a16f3e": {
          "model_module": "@jupyter-widgets/controls",
          "model_name": "DescriptionStyleModel",
          "model_module_version": "1.5.0",
          "state": {
            "_model_module": "@jupyter-widgets/controls",
            "_model_module_version": "1.5.0",
            "_model_name": "DescriptionStyleModel",
            "_view_count": null,
            "_view_module": "@jupyter-widgets/base",
            "_view_module_version": "1.2.0",
            "_view_name": "StyleView",
            "description_width": ""
          }
        },
        "0520fd1460644b529ed5ef4bbc67c885": {
          "model_module": "@jupyter-widgets/controls",
          "model_name": "HBoxModel",
          "model_module_version": "1.5.0",
          "state": {
            "_dom_classes": [],
            "_model_module": "@jupyter-widgets/controls",
            "_model_module_version": "1.5.0",
            "_model_name": "HBoxModel",
            "_view_count": null,
            "_view_module": "@jupyter-widgets/controls",
            "_view_module_version": "1.5.0",
            "_view_name": "HBoxView",
            "box_style": "",
            "children": [
              "IPY_MODEL_02d12611c70f4758944c934dc64fd228",
              "IPY_MODEL_3a07ca30f5824adb810c7965d18a5e92",
              "IPY_MODEL_fc0d86511194418da7544eb03e17d650"
            ],
            "layout": "IPY_MODEL_ce729ffeb5dc45cd86fc487f60a2fb49"
          }
        },
        "02d12611c70f4758944c934dc64fd228": {
          "model_module": "@jupyter-widgets/controls",
          "model_name": "HTMLModel",
          "model_module_version": "1.5.0",
          "state": {
            "_dom_classes": [],
            "_model_module": "@jupyter-widgets/controls",
            "_model_module_version": "1.5.0",
            "_model_name": "HTMLModel",
            "_view_count": null,
            "_view_module": "@jupyter-widgets/controls",
            "_view_module_version": "1.5.0",
            "_view_name": "HTMLView",
            "description": "",
            "description_tooltip": null,
            "layout": "IPY_MODEL_32068e43c1fe40679793948d0b6a5a68",
            "placeholder": "​",
            "style": "IPY_MODEL_778f43a476094081a72ba1beaaa8d7b0",
            "value": "vocab.json: 100%"
          }
        },
        "3a07ca30f5824adb810c7965d18a5e92": {
          "model_module": "@jupyter-widgets/controls",
          "model_name": "FloatProgressModel",
          "model_module_version": "1.5.0",
          "state": {
            "_dom_classes": [],
            "_model_module": "@jupyter-widgets/controls",
            "_model_module_version": "1.5.0",
            "_model_name": "FloatProgressModel",
            "_view_count": null,
            "_view_module": "@jupyter-widgets/controls",
            "_view_module_version": "1.5.0",
            "_view_name": "ProgressView",
            "bar_style": "success",
            "description": "",
            "description_tooltip": null,
            "layout": "IPY_MODEL_623779516c2e441f982476c9b66c6eaa",
            "max": 465072,
            "min": 0,
            "orientation": "horizontal",
            "style": "IPY_MODEL_9b02bf1ac57b4339bedbd8e6163da33c",
            "value": 465072
          }
        },
        "fc0d86511194418da7544eb03e17d650": {
          "model_module": "@jupyter-widgets/controls",
          "model_name": "HTMLModel",
          "model_module_version": "1.5.0",
          "state": {
            "_dom_classes": [],
            "_model_module": "@jupyter-widgets/controls",
            "_model_module_version": "1.5.0",
            "_model_name": "HTMLModel",
            "_view_count": null,
            "_view_module": "@jupyter-widgets/controls",
            "_view_module_version": "1.5.0",
            "_view_name": "HTMLView",
            "description": "",
            "description_tooltip": null,
            "layout": "IPY_MODEL_feceb820c0044d7a909672d700313232",
            "placeholder": "​",
            "style": "IPY_MODEL_abc6643e4b1747fdb309f77d831cbd43",
            "value": " 465k/465k [00:00&lt;00:00, 16.7MB/s]"
          }
        },
        "ce729ffeb5dc45cd86fc487f60a2fb49": {
          "model_module": "@jupyter-widgets/base",
          "model_name": "LayoutModel",
          "model_module_version": "1.2.0",
          "state": {
            "_model_module": "@jupyter-widgets/base",
            "_model_module_version": "1.2.0",
            "_model_name": "LayoutModel",
            "_view_count": null,
            "_view_module": "@jupyter-widgets/base",
            "_view_module_version": "1.2.0",
            "_view_name": "LayoutView",
            "align_content": null,
            "align_items": null,
            "align_self": null,
            "border": null,
            "bottom": null,
            "display": null,
            "flex": null,
            "flex_flow": null,
            "grid_area": null,
            "grid_auto_columns": null,
            "grid_auto_flow": null,
            "grid_auto_rows": null,
            "grid_column": null,
            "grid_gap": null,
            "grid_row": null,
            "grid_template_areas": null,
            "grid_template_columns": null,
            "grid_template_rows": null,
            "height": null,
            "justify_content": null,
            "justify_items": null,
            "left": null,
            "margin": null,
            "max_height": null,
            "max_width": null,
            "min_height": null,
            "min_width": null,
            "object_fit": null,
            "object_position": null,
            "order": null,
            "overflow": null,
            "overflow_x": null,
            "overflow_y": null,
            "padding": null,
            "right": null,
            "top": null,
            "visibility": null,
            "width": null
          }
        },
        "32068e43c1fe40679793948d0b6a5a68": {
          "model_module": "@jupyter-widgets/base",
          "model_name": "LayoutModel",
          "model_module_version": "1.2.0",
          "state": {
            "_model_module": "@jupyter-widgets/base",
            "_model_module_version": "1.2.0",
            "_model_name": "LayoutModel",
            "_view_count": null,
            "_view_module": "@jupyter-widgets/base",
            "_view_module_version": "1.2.0",
            "_view_name": "LayoutView",
            "align_content": null,
            "align_items": null,
            "align_self": null,
            "border": null,
            "bottom": null,
            "display": null,
            "flex": null,
            "flex_flow": null,
            "grid_area": null,
            "grid_auto_columns": null,
            "grid_auto_flow": null,
            "grid_auto_rows": null,
            "grid_column": null,
            "grid_gap": null,
            "grid_row": null,
            "grid_template_areas": null,
            "grid_template_columns": null,
            "grid_template_rows": null,
            "height": null,
            "justify_content": null,
            "justify_items": null,
            "left": null,
            "margin": null,
            "max_height": null,
            "max_width": null,
            "min_height": null,
            "min_width": null,
            "object_fit": null,
            "object_position": null,
            "order": null,
            "overflow": null,
            "overflow_x": null,
            "overflow_y": null,
            "padding": null,
            "right": null,
            "top": null,
            "visibility": null,
            "width": null
          }
        },
        "778f43a476094081a72ba1beaaa8d7b0": {
          "model_module": "@jupyter-widgets/controls",
          "model_name": "DescriptionStyleModel",
          "model_module_version": "1.5.0",
          "state": {
            "_model_module": "@jupyter-widgets/controls",
            "_model_module_version": "1.5.0",
            "_model_name": "DescriptionStyleModel",
            "_view_count": null,
            "_view_module": "@jupyter-widgets/base",
            "_view_module_version": "1.2.0",
            "_view_name": "StyleView",
            "description_width": ""
          }
        },
        "623779516c2e441f982476c9b66c6eaa": {
          "model_module": "@jupyter-widgets/base",
          "model_name": "LayoutModel",
          "model_module_version": "1.2.0",
          "state": {
            "_model_module": "@jupyter-widgets/base",
            "_model_module_version": "1.2.0",
            "_model_name": "LayoutModel",
            "_view_count": null,
            "_view_module": "@jupyter-widgets/base",
            "_view_module_version": "1.2.0",
            "_view_name": "LayoutView",
            "align_content": null,
            "align_items": null,
            "align_self": null,
            "border": null,
            "bottom": null,
            "display": null,
            "flex": null,
            "flex_flow": null,
            "grid_area": null,
            "grid_auto_columns": null,
            "grid_auto_flow": null,
            "grid_auto_rows": null,
            "grid_column": null,
            "grid_gap": null,
            "grid_row": null,
            "grid_template_areas": null,
            "grid_template_columns": null,
            "grid_template_rows": null,
            "height": null,
            "justify_content": null,
            "justify_items": null,
            "left": null,
            "margin": null,
            "max_height": null,
            "max_width": null,
            "min_height": null,
            "min_width": null,
            "object_fit": null,
            "object_position": null,
            "order": null,
            "overflow": null,
            "overflow_x": null,
            "overflow_y": null,
            "padding": null,
            "right": null,
            "top": null,
            "visibility": null,
            "width": null
          }
        },
        "9b02bf1ac57b4339bedbd8e6163da33c": {
          "model_module": "@jupyter-widgets/controls",
          "model_name": "ProgressStyleModel",
          "model_module_version": "1.5.0",
          "state": {
            "_model_module": "@jupyter-widgets/controls",
            "_model_module_version": "1.5.0",
            "_model_name": "ProgressStyleModel",
            "_view_count": null,
            "_view_module": "@jupyter-widgets/base",
            "_view_module_version": "1.2.0",
            "_view_name": "StyleView",
            "bar_color": null,
            "description_width": ""
          }
        },
        "feceb820c0044d7a909672d700313232": {
          "model_module": "@jupyter-widgets/base",
          "model_name": "LayoutModel",
          "model_module_version": "1.2.0",
          "state": {
            "_model_module": "@jupyter-widgets/base",
            "_model_module_version": "1.2.0",
            "_model_name": "LayoutModel",
            "_view_count": null,
            "_view_module": "@jupyter-widgets/base",
            "_view_module_version": "1.2.0",
            "_view_name": "LayoutView",
            "align_content": null,
            "align_items": null,
            "align_self": null,
            "border": null,
            "bottom": null,
            "display": null,
            "flex": null,
            "flex_flow": null,
            "grid_area": null,
            "grid_auto_columns": null,
            "grid_auto_flow": null,
            "grid_auto_rows": null,
            "grid_column": null,
            "grid_gap": null,
            "grid_row": null,
            "grid_template_areas": null,
            "grid_template_columns": null,
            "grid_template_rows": null,
            "height": null,
            "justify_content": null,
            "justify_items": null,
            "left": null,
            "margin": null,
            "max_height": null,
            "max_width": null,
            "min_height": null,
            "min_width": null,
            "object_fit": null,
            "object_position": null,
            "order": null,
            "overflow": null,
            "overflow_x": null,
            "overflow_y": null,
            "padding": null,
            "right": null,
            "top": null,
            "visibility": null,
            "width": null
          }
        },
        "abc6643e4b1747fdb309f77d831cbd43": {
          "model_module": "@jupyter-widgets/controls",
          "model_name": "DescriptionStyleModel",
          "model_module_version": "1.5.0",
          "state": {
            "_model_module": "@jupyter-widgets/controls",
            "_model_module_version": "1.5.0",
            "_model_name": "DescriptionStyleModel",
            "_view_count": null,
            "_view_module": "@jupyter-widgets/base",
            "_view_module_version": "1.2.0",
            "_view_name": "StyleView",
            "description_width": ""
          }
        },
        "cdce003ce88d458fa196737f82c84876": {
          "model_module": "@jupyter-widgets/controls",
          "model_name": "HBoxModel",
          "model_module_version": "1.5.0",
          "state": {
            "_dom_classes": [],
            "_model_module": "@jupyter-widgets/controls",
            "_model_module_version": "1.5.0",
            "_model_name": "HBoxModel",
            "_view_count": null,
            "_view_module": "@jupyter-widgets/controls",
            "_view_module_version": "1.5.0",
            "_view_name": "HBoxView",
            "box_style": "",
            "children": [
              "IPY_MODEL_66999be58da54b9592993c8072027510",
              "IPY_MODEL_c8990946e162429eb0d97aea8841fac2",
              "IPY_MODEL_a85521fb35464cf0979e21fe6ce8ce42"
            ],
            "layout": "IPY_MODEL_f145d55768ad460aa99a5f6d5df7df08"
          }
        },
        "66999be58da54b9592993c8072027510": {
          "model_module": "@jupyter-widgets/controls",
          "model_name": "HTMLModel",
          "model_module_version": "1.5.0",
          "state": {
            "_dom_classes": [],
            "_model_module": "@jupyter-widgets/controls",
            "_model_module_version": "1.5.0",
            "_model_name": "HTMLModel",
            "_view_count": null,
            "_view_module": "@jupyter-widgets/controls",
            "_view_module_version": "1.5.0",
            "_view_name": "HTMLView",
            "description": "",
            "description_tooltip": null,
            "layout": "IPY_MODEL_ff98ae749c644f63a48e8c0ae7b66a35",
            "placeholder": "​",
            "style": "IPY_MODEL_7adc9c531cda43aa9936255a1ea8823d",
            "value": "sentencepiece.bpe.model: 100%"
          }
        },
        "c8990946e162429eb0d97aea8841fac2": {
          "model_module": "@jupyter-widgets/controls",
          "model_name": "FloatProgressModel",
          "model_module_version": "1.5.0",
          "state": {
            "_dom_classes": [],
            "_model_module": "@jupyter-widgets/controls",
            "_model_module_version": "1.5.0",
            "_model_name": "FloatProgressModel",
            "_view_count": null,
            "_view_module": "@jupyter-widgets/controls",
            "_view_module_version": "1.5.0",
            "_view_name": "ProgressView",
            "bar_style": "success",
            "description": "",
            "description_tooltip": null,
            "layout": "IPY_MODEL_ac5e92e504cd459aa4cbbebc2f95b970",
            "max": 488811,
            "min": 0,
            "orientation": "horizontal",
            "style": "IPY_MODEL_7be6eb2582a74dea8ef0c25d926d6b9c",
            "value": 488811
          }
        },
        "a85521fb35464cf0979e21fe6ce8ce42": {
          "model_module": "@jupyter-widgets/controls",
          "model_name": "HTMLModel",
          "model_module_version": "1.5.0",
          "state": {
            "_dom_classes": [],
            "_model_module": "@jupyter-widgets/controls",
            "_model_module_version": "1.5.0",
            "_model_name": "HTMLModel",
            "_view_count": null,
            "_view_module": "@jupyter-widgets/controls",
            "_view_module_version": "1.5.0",
            "_view_name": "HTMLView",
            "description": "",
            "description_tooltip": null,
            "layout": "IPY_MODEL_0069e20c667247c6bab662476a52157c",
            "placeholder": "​",
            "style": "IPY_MODEL_11204bd7c239403b87895a3105c4d730",
            "value": " 489k/489k [00:00&lt;00:00, 3.03MB/s]"
          }
        },
        "f145d55768ad460aa99a5f6d5df7df08": {
          "model_module": "@jupyter-widgets/base",
          "model_name": "LayoutModel",
          "model_module_version": "1.2.0",
          "state": {
            "_model_module": "@jupyter-widgets/base",
            "_model_module_version": "1.2.0",
            "_model_name": "LayoutModel",
            "_view_count": null,
            "_view_module": "@jupyter-widgets/base",
            "_view_module_version": "1.2.0",
            "_view_name": "LayoutView",
            "align_content": null,
            "align_items": null,
            "align_self": null,
            "border": null,
            "bottom": null,
            "display": null,
            "flex": null,
            "flex_flow": null,
            "grid_area": null,
            "grid_auto_columns": null,
            "grid_auto_flow": null,
            "grid_auto_rows": null,
            "grid_column": null,
            "grid_gap": null,
            "grid_row": null,
            "grid_template_areas": null,
            "grid_template_columns": null,
            "grid_template_rows": null,
            "height": null,
            "justify_content": null,
            "justify_items": null,
            "left": null,
            "margin": null,
            "max_height": null,
            "max_width": null,
            "min_height": null,
            "min_width": null,
            "object_fit": null,
            "object_position": null,
            "order": null,
            "overflow": null,
            "overflow_x": null,
            "overflow_y": null,
            "padding": null,
            "right": null,
            "top": null,
            "visibility": null,
            "width": null
          }
        },
        "ff98ae749c644f63a48e8c0ae7b66a35": {
          "model_module": "@jupyter-widgets/base",
          "model_name": "LayoutModel",
          "model_module_version": "1.2.0",
          "state": {
            "_model_module": "@jupyter-widgets/base",
            "_model_module_version": "1.2.0",
            "_model_name": "LayoutModel",
            "_view_count": null,
            "_view_module": "@jupyter-widgets/base",
            "_view_module_version": "1.2.0",
            "_view_name": "LayoutView",
            "align_content": null,
            "align_items": null,
            "align_self": null,
            "border": null,
            "bottom": null,
            "display": null,
            "flex": null,
            "flex_flow": null,
            "grid_area": null,
            "grid_auto_columns": null,
            "grid_auto_flow": null,
            "grid_auto_rows": null,
            "grid_column": null,
            "grid_gap": null,
            "grid_row": null,
            "grid_template_areas": null,
            "grid_template_columns": null,
            "grid_template_rows": null,
            "height": null,
            "justify_content": null,
            "justify_items": null,
            "left": null,
            "margin": null,
            "max_height": null,
            "max_width": null,
            "min_height": null,
            "min_width": null,
            "object_fit": null,
            "object_position": null,
            "order": null,
            "overflow": null,
            "overflow_x": null,
            "overflow_y": null,
            "padding": null,
            "right": null,
            "top": null,
            "visibility": null,
            "width": null
          }
        },
        "7adc9c531cda43aa9936255a1ea8823d": {
          "model_module": "@jupyter-widgets/controls",
          "model_name": "DescriptionStyleModel",
          "model_module_version": "1.5.0",
          "state": {
            "_model_module": "@jupyter-widgets/controls",
            "_model_module_version": "1.5.0",
            "_model_name": "DescriptionStyleModel",
            "_view_count": null,
            "_view_module": "@jupyter-widgets/base",
            "_view_module_version": "1.2.0",
            "_view_name": "StyleView",
            "description_width": ""
          }
        },
        "ac5e92e504cd459aa4cbbebc2f95b970": {
          "model_module": "@jupyter-widgets/base",
          "model_name": "LayoutModel",
          "model_module_version": "1.2.0",
          "state": {
            "_model_module": "@jupyter-widgets/base",
            "_model_module_version": "1.2.0",
            "_model_name": "LayoutModel",
            "_view_count": null,
            "_view_module": "@jupyter-widgets/base",
            "_view_module_version": "1.2.0",
            "_view_name": "LayoutView",
            "align_content": null,
            "align_items": null,
            "align_self": null,
            "border": null,
            "bottom": null,
            "display": null,
            "flex": null,
            "flex_flow": null,
            "grid_area": null,
            "grid_auto_columns": null,
            "grid_auto_flow": null,
            "grid_auto_rows": null,
            "grid_column": null,
            "grid_gap": null,
            "grid_row": null,
            "grid_template_areas": null,
            "grid_template_columns": null,
            "grid_template_rows": null,
            "height": null,
            "justify_content": null,
            "justify_items": null,
            "left": null,
            "margin": null,
            "max_height": null,
            "max_width": null,
            "min_height": null,
            "min_width": null,
            "object_fit": null,
            "object_position": null,
            "order": null,
            "overflow": null,
            "overflow_x": null,
            "overflow_y": null,
            "padding": null,
            "right": null,
            "top": null,
            "visibility": null,
            "width": null
          }
        },
        "7be6eb2582a74dea8ef0c25d926d6b9c": {
          "model_module": "@jupyter-widgets/controls",
          "model_name": "ProgressStyleModel",
          "model_module_version": "1.5.0",
          "state": {
            "_model_module": "@jupyter-widgets/controls",
            "_model_module_version": "1.5.0",
            "_model_name": "ProgressStyleModel",
            "_view_count": null,
            "_view_module": "@jupyter-widgets/base",
            "_view_module_version": "1.2.0",
            "_view_name": "StyleView",
            "bar_color": null,
            "description_width": ""
          }
        },
        "0069e20c667247c6bab662476a52157c": {
          "model_module": "@jupyter-widgets/base",
          "model_name": "LayoutModel",
          "model_module_version": "1.2.0",
          "state": {
            "_model_module": "@jupyter-widgets/base",
            "_model_module_version": "1.2.0",
            "_model_name": "LayoutModel",
            "_view_count": null,
            "_view_module": "@jupyter-widgets/base",
            "_view_module_version": "1.2.0",
            "_view_name": "LayoutView",
            "align_content": null,
            "align_items": null,
            "align_self": null,
            "border": null,
            "bottom": null,
            "display": null,
            "flex": null,
            "flex_flow": null,
            "grid_area": null,
            "grid_auto_columns": null,
            "grid_auto_flow": null,
            "grid_auto_rows": null,
            "grid_column": null,
            "grid_gap": null,
            "grid_row": null,
            "grid_template_areas": null,
            "grid_template_columns": null,
            "grid_template_rows": null,
            "height": null,
            "justify_content": null,
            "justify_items": null,
            "left": null,
            "margin": null,
            "max_height": null,
            "max_width": null,
            "min_height": null,
            "min_width": null,
            "object_fit": null,
            "object_position": null,
            "order": null,
            "overflow": null,
            "overflow_x": null,
            "overflow_y": null,
            "padding": null,
            "right": null,
            "top": null,
            "visibility": null,
            "width": null
          }
        },
        "11204bd7c239403b87895a3105c4d730": {
          "model_module": "@jupyter-widgets/controls",
          "model_name": "DescriptionStyleModel",
          "model_module_version": "1.5.0",
          "state": {
            "_model_module": "@jupyter-widgets/controls",
            "_model_module_version": "1.5.0",
            "_model_name": "DescriptionStyleModel",
            "_view_count": null,
            "_view_module": "@jupyter-widgets/base",
            "_view_module_version": "1.2.0",
            "_view_name": "StyleView",
            "description_width": ""
          }
        },
        "ac2d9ab49f864ffaab5e277a0da7339a": {
          "model_module": "@jupyter-widgets/controls",
          "model_name": "HBoxModel",
          "model_module_version": "1.5.0",
          "state": {
            "_dom_classes": [],
            "_model_module": "@jupyter-widgets/controls",
            "_model_module_version": "1.5.0",
            "_model_name": "HBoxModel",
            "_view_count": null,
            "_view_module": "@jupyter-widgets/controls",
            "_view_module_version": "1.5.0",
            "_view_name": "HBoxView",
            "box_style": "",
            "children": [
              "IPY_MODEL_e650026244a14417b4581d71b9e26b32",
              "IPY_MODEL_bbdc5302a7a34694bdc05a7a0328ed01",
              "IPY_MODEL_4946401b60e64aa0a9e728c077fb9d78"
            ],
            "layout": "IPY_MODEL_cc8838927b774d2eb8d108711b09e40c"
          }
        },
        "e650026244a14417b4581d71b9e26b32": {
          "model_module": "@jupyter-widgets/controls",
          "model_name": "HTMLModel",
          "model_module_version": "1.5.0",
          "state": {
            "_dom_classes": [],
            "_model_module": "@jupyter-widgets/controls",
            "_model_module_version": "1.5.0",
            "_model_name": "HTMLModel",
            "_view_count": null,
            "_view_module": "@jupyter-widgets/controls",
            "_view_module_version": "1.5.0",
            "_view_name": "HTMLView",
            "description": "",
            "description_tooltip": null,
            "layout": "IPY_MODEL_e52669085f424886be6a3bec9f6285ba",
            "placeholder": "​",
            "style": "IPY_MODEL_fbf0bd187f4a48059c55fc21ec9c0a27",
            "value": "special_tokens_map.json: 100%"
          }
        },
        "bbdc5302a7a34694bdc05a7a0328ed01": {
          "model_module": "@jupyter-widgets/controls",
          "model_name": "FloatProgressModel",
          "model_module_version": "1.5.0",
          "state": {
            "_dom_classes": [],
            "_model_module": "@jupyter-widgets/controls",
            "_model_module_version": "1.5.0",
            "_model_name": "FloatProgressModel",
            "_view_count": null,
            "_view_module": "@jupyter-widgets/controls",
            "_view_module_version": "1.5.0",
            "_view_name": "ProgressView",
            "bar_style": "success",
            "description": "",
            "description_tooltip": null,
            "layout": "IPY_MODEL_f9d14847fd4e40a89faed629b2f3d68d",
            "max": 1559,
            "min": 0,
            "orientation": "horizontal",
            "style": "IPY_MODEL_d4a6c7edb61d4938a1f194ed258ef322",
            "value": 1559
          }
        },
        "4946401b60e64aa0a9e728c077fb9d78": {
          "model_module": "@jupyter-widgets/controls",
          "model_name": "HTMLModel",
          "model_module_version": "1.5.0",
          "state": {
            "_dom_classes": [],
            "_model_module": "@jupyter-widgets/controls",
            "_model_module_version": "1.5.0",
            "_model_name": "HTMLModel",
            "_view_count": null,
            "_view_module": "@jupyter-widgets/controls",
            "_view_module_version": "1.5.0",
            "_view_name": "HTMLView",
            "description": "",
            "description_tooltip": null,
            "layout": "IPY_MODEL_a99252f5158d40dfb5c58ef76451b03c",
            "placeholder": "​",
            "style": "IPY_MODEL_208902c9393540519d60d352325b0206",
            "value": " 1.56k/1.56k [00:00&lt;00:00, 92.0kB/s]"
          }
        },
        "cc8838927b774d2eb8d108711b09e40c": {
          "model_module": "@jupyter-widgets/base",
          "model_name": "LayoutModel",
          "model_module_version": "1.2.0",
          "state": {
            "_model_module": "@jupyter-widgets/base",
            "_model_module_version": "1.2.0",
            "_model_name": "LayoutModel",
            "_view_count": null,
            "_view_module": "@jupyter-widgets/base",
            "_view_module_version": "1.2.0",
            "_view_name": "LayoutView",
            "align_content": null,
            "align_items": null,
            "align_self": null,
            "border": null,
            "bottom": null,
            "display": null,
            "flex": null,
            "flex_flow": null,
            "grid_area": null,
            "grid_auto_columns": null,
            "grid_auto_flow": null,
            "grid_auto_rows": null,
            "grid_column": null,
            "grid_gap": null,
            "grid_row": null,
            "grid_template_areas": null,
            "grid_template_columns": null,
            "grid_template_rows": null,
            "height": null,
            "justify_content": null,
            "justify_items": null,
            "left": null,
            "margin": null,
            "max_height": null,
            "max_width": null,
            "min_height": null,
            "min_width": null,
            "object_fit": null,
            "object_position": null,
            "order": null,
            "overflow": null,
            "overflow_x": null,
            "overflow_y": null,
            "padding": null,
            "right": null,
            "top": null,
            "visibility": null,
            "width": null
          }
        },
        "e52669085f424886be6a3bec9f6285ba": {
          "model_module": "@jupyter-widgets/base",
          "model_name": "LayoutModel",
          "model_module_version": "1.2.0",
          "state": {
            "_model_module": "@jupyter-widgets/base",
            "_model_module_version": "1.2.0",
            "_model_name": "LayoutModel",
            "_view_count": null,
            "_view_module": "@jupyter-widgets/base",
            "_view_module_version": "1.2.0",
            "_view_name": "LayoutView",
            "align_content": null,
            "align_items": null,
            "align_self": null,
            "border": null,
            "bottom": null,
            "display": null,
            "flex": null,
            "flex_flow": null,
            "grid_area": null,
            "grid_auto_columns": null,
            "grid_auto_flow": null,
            "grid_auto_rows": null,
            "grid_column": null,
            "grid_gap": null,
            "grid_row": null,
            "grid_template_areas": null,
            "grid_template_columns": null,
            "grid_template_rows": null,
            "height": null,
            "justify_content": null,
            "justify_items": null,
            "left": null,
            "margin": null,
            "max_height": null,
            "max_width": null,
            "min_height": null,
            "min_width": null,
            "object_fit": null,
            "object_position": null,
            "order": null,
            "overflow": null,
            "overflow_x": null,
            "overflow_y": null,
            "padding": null,
            "right": null,
            "top": null,
            "visibility": null,
            "width": null
          }
        },
        "fbf0bd187f4a48059c55fc21ec9c0a27": {
          "model_module": "@jupyter-widgets/controls",
          "model_name": "DescriptionStyleModel",
          "model_module_version": "1.5.0",
          "state": {
            "_model_module": "@jupyter-widgets/controls",
            "_model_module_version": "1.5.0",
            "_model_name": "DescriptionStyleModel",
            "_view_count": null,
            "_view_module": "@jupyter-widgets/base",
            "_view_module_version": "1.2.0",
            "_view_name": "StyleView",
            "description_width": ""
          }
        },
        "f9d14847fd4e40a89faed629b2f3d68d": {
          "model_module": "@jupyter-widgets/base",
          "model_name": "LayoutModel",
          "model_module_version": "1.2.0",
          "state": {
            "_model_module": "@jupyter-widgets/base",
            "_model_module_version": "1.2.0",
            "_model_name": "LayoutModel",
            "_view_count": null,
            "_view_module": "@jupyter-widgets/base",
            "_view_module_version": "1.2.0",
            "_view_name": "LayoutView",
            "align_content": null,
            "align_items": null,
            "align_self": null,
            "border": null,
            "bottom": null,
            "display": null,
            "flex": null,
            "flex_flow": null,
            "grid_area": null,
            "grid_auto_columns": null,
            "grid_auto_flow": null,
            "grid_auto_rows": null,
            "grid_column": null,
            "grid_gap": null,
            "grid_row": null,
            "grid_template_areas": null,
            "grid_template_columns": null,
            "grid_template_rows": null,
            "height": null,
            "justify_content": null,
            "justify_items": null,
            "left": null,
            "margin": null,
            "max_height": null,
            "max_width": null,
            "min_height": null,
            "min_width": null,
            "object_fit": null,
            "object_position": null,
            "order": null,
            "overflow": null,
            "overflow_x": null,
            "overflow_y": null,
            "padding": null,
            "right": null,
            "top": null,
            "visibility": null,
            "width": null
          }
        },
        "d4a6c7edb61d4938a1f194ed258ef322": {
          "model_module": "@jupyter-widgets/controls",
          "model_name": "ProgressStyleModel",
          "model_module_version": "1.5.0",
          "state": {
            "_model_module": "@jupyter-widgets/controls",
            "_model_module_version": "1.5.0",
            "_model_name": "ProgressStyleModel",
            "_view_count": null,
            "_view_module": "@jupyter-widgets/base",
            "_view_module_version": "1.2.0",
            "_view_name": "StyleView",
            "bar_color": null,
            "description_width": ""
          }
        },
        "a99252f5158d40dfb5c58ef76451b03c": {
          "model_module": "@jupyter-widgets/base",
          "model_name": "LayoutModel",
          "model_module_version": "1.2.0",
          "state": {
            "_model_module": "@jupyter-widgets/base",
            "_model_module_version": "1.2.0",
            "_model_name": "LayoutModel",
            "_view_count": null,
            "_view_module": "@jupyter-widgets/base",
            "_view_module_version": "1.2.0",
            "_view_name": "LayoutView",
            "align_content": null,
            "align_items": null,
            "align_self": null,
            "border": null,
            "bottom": null,
            "display": null,
            "flex": null,
            "flex_flow": null,
            "grid_area": null,
            "grid_auto_columns": null,
            "grid_auto_flow": null,
            "grid_auto_rows": null,
            "grid_column": null,
            "grid_gap": null,
            "grid_row": null,
            "grid_template_areas": null,
            "grid_template_columns": null,
            "grid_template_rows": null,
            "height": null,
            "justify_content": null,
            "justify_items": null,
            "left": null,
            "margin": null,
            "max_height": null,
            "max_width": null,
            "min_height": null,
            "min_width": null,
            "object_fit": null,
            "object_position": null,
            "order": null,
            "overflow": null,
            "overflow_x": null,
            "overflow_y": null,
            "padding": null,
            "right": null,
            "top": null,
            "visibility": null,
            "width": null
          }
        },
        "208902c9393540519d60d352325b0206": {
          "model_module": "@jupyter-widgets/controls",
          "model_name": "DescriptionStyleModel",
          "model_module_version": "1.5.0",
          "state": {
            "_model_module": "@jupyter-widgets/controls",
            "_model_module_version": "1.5.0",
            "_model_name": "DescriptionStyleModel",
            "_view_count": null,
            "_view_module": "@jupyter-widgets/base",
            "_view_module_version": "1.2.0",
            "_view_name": "StyleView",
            "description_width": ""
          }
        },
        "20e677bbd4724885b0a580b9cd1a8768": {
          "model_module": "@jupyter-widgets/controls",
          "model_name": "HBoxModel",
          "model_module_version": "1.5.0",
          "state": {
            "_dom_classes": [],
            "_model_module": "@jupyter-widgets/controls",
            "_model_module_version": "1.5.0",
            "_model_name": "HBoxModel",
            "_view_count": null,
            "_view_module": "@jupyter-widgets/controls",
            "_view_module_version": "1.5.0",
            "_view_name": "HBoxView",
            "box_style": "",
            "children": [
              "IPY_MODEL_a8c10fcc5e9f456687ab215ea438fd05",
              "IPY_MODEL_6e26ef2ecc714def9b39b3403b2601cc",
              "IPY_MODEL_f75bd0b70e5643838094e1ba9b00d00d"
            ],
            "layout": "IPY_MODEL_947d1094cf7a494b82d876fb49d52b6c"
          }
        },
        "a8c10fcc5e9f456687ab215ea438fd05": {
          "model_module": "@jupyter-widgets/controls",
          "model_name": "HTMLModel",
          "model_module_version": "1.5.0",
          "state": {
            "_dom_classes": [],
            "_model_module": "@jupyter-widgets/controls",
            "_model_module_version": "1.5.0",
            "_model_name": "HTMLModel",
            "_view_count": null,
            "_view_module": "@jupyter-widgets/controls",
            "_view_module_version": "1.5.0",
            "_view_name": "HTMLView",
            "description": "",
            "description_tooltip": null,
            "layout": "IPY_MODEL_bc385f7b100a47f492b9680653773ba7",
            "placeholder": "​",
            "style": "IPY_MODEL_4a178a973dba43078dcf7a27e05efe73",
            "value": "config.json: 100%"
          }
        },
        "6e26ef2ecc714def9b39b3403b2601cc": {
          "model_module": "@jupyter-widgets/controls",
          "model_name": "FloatProgressModel",
          "model_module_version": "1.5.0",
          "state": {
            "_dom_classes": [],
            "_model_module": "@jupyter-widgets/controls",
            "_model_module_version": "1.5.0",
            "_model_name": "FloatProgressModel",
            "_view_count": null,
            "_view_module": "@jupyter-widgets/controls",
            "_view_module_version": "1.5.0",
            "_view_name": "ProgressView",
            "bar_style": "success",
            "description": "",
            "description_tooltip": null,
            "layout": "IPY_MODEL_ece3200b86f24a99a63835cc6a5a658c",
            "max": 963,
            "min": 0,
            "orientation": "horizontal",
            "style": "IPY_MODEL_05612c2eb4d540ea96a7ed9793a007bf",
            "value": 963
          }
        },
        "f75bd0b70e5643838094e1ba9b00d00d": {
          "model_module": "@jupyter-widgets/controls",
          "model_name": "HTMLModel",
          "model_module_version": "1.5.0",
          "state": {
            "_dom_classes": [],
            "_model_module": "@jupyter-widgets/controls",
            "_model_module_version": "1.5.0",
            "_model_name": "HTMLModel",
            "_view_count": null,
            "_view_module": "@jupyter-widgets/controls",
            "_view_module_version": "1.5.0",
            "_view_name": "HTMLView",
            "description": "",
            "description_tooltip": null,
            "layout": "IPY_MODEL_af516c7f7630413caa68bce3d08546d4",
            "placeholder": "​",
            "style": "IPY_MODEL_a0a40b8e21b34692bec8c20b3b046c9a",
            "value": " 963/963 [00:00&lt;00:00, 50.0kB/s]"
          }
        },
        "947d1094cf7a494b82d876fb49d52b6c": {
          "model_module": "@jupyter-widgets/base",
          "model_name": "LayoutModel",
          "model_module_version": "1.2.0",
          "state": {
            "_model_module": "@jupyter-widgets/base",
            "_model_module_version": "1.2.0",
            "_model_name": "LayoutModel",
            "_view_count": null,
            "_view_module": "@jupyter-widgets/base",
            "_view_module_version": "1.2.0",
            "_view_name": "LayoutView",
            "align_content": null,
            "align_items": null,
            "align_self": null,
            "border": null,
            "bottom": null,
            "display": null,
            "flex": null,
            "flex_flow": null,
            "grid_area": null,
            "grid_auto_columns": null,
            "grid_auto_flow": null,
            "grid_auto_rows": null,
            "grid_column": null,
            "grid_gap": null,
            "grid_row": null,
            "grid_template_areas": null,
            "grid_template_columns": null,
            "grid_template_rows": null,
            "height": null,
            "justify_content": null,
            "justify_items": null,
            "left": null,
            "margin": null,
            "max_height": null,
            "max_width": null,
            "min_height": null,
            "min_width": null,
            "object_fit": null,
            "object_position": null,
            "order": null,
            "overflow": null,
            "overflow_x": null,
            "overflow_y": null,
            "padding": null,
            "right": null,
            "top": null,
            "visibility": null,
            "width": null
          }
        },
        "bc385f7b100a47f492b9680653773ba7": {
          "model_module": "@jupyter-widgets/base",
          "model_name": "LayoutModel",
          "model_module_version": "1.2.0",
          "state": {
            "_model_module": "@jupyter-widgets/base",
            "_model_module_version": "1.2.0",
            "_model_name": "LayoutModel",
            "_view_count": null,
            "_view_module": "@jupyter-widgets/base",
            "_view_module_version": "1.2.0",
            "_view_name": "LayoutView",
            "align_content": null,
            "align_items": null,
            "align_self": null,
            "border": null,
            "bottom": null,
            "display": null,
            "flex": null,
            "flex_flow": null,
            "grid_area": null,
            "grid_auto_columns": null,
            "grid_auto_flow": null,
            "grid_auto_rows": null,
            "grid_column": null,
            "grid_gap": null,
            "grid_row": null,
            "grid_template_areas": null,
            "grid_template_columns": null,
            "grid_template_rows": null,
            "height": null,
            "justify_content": null,
            "justify_items": null,
            "left": null,
            "margin": null,
            "max_height": null,
            "max_width": null,
            "min_height": null,
            "min_width": null,
            "object_fit": null,
            "object_position": null,
            "order": null,
            "overflow": null,
            "overflow_x": null,
            "overflow_y": null,
            "padding": null,
            "right": null,
            "top": null,
            "visibility": null,
            "width": null
          }
        },
        "4a178a973dba43078dcf7a27e05efe73": {
          "model_module": "@jupyter-widgets/controls",
          "model_name": "DescriptionStyleModel",
          "model_module_version": "1.5.0",
          "state": {
            "_model_module": "@jupyter-widgets/controls",
            "_model_module_version": "1.5.0",
            "_model_name": "DescriptionStyleModel",
            "_view_count": null,
            "_view_module": "@jupyter-widgets/base",
            "_view_module_version": "1.2.0",
            "_view_name": "StyleView",
            "description_width": ""
          }
        },
        "ece3200b86f24a99a63835cc6a5a658c": {
          "model_module": "@jupyter-widgets/base",
          "model_name": "LayoutModel",
          "model_module_version": "1.2.0",
          "state": {
            "_model_module": "@jupyter-widgets/base",
            "_model_module_version": "1.2.0",
            "_model_name": "LayoutModel",
            "_view_count": null,
            "_view_module": "@jupyter-widgets/base",
            "_view_module_version": "1.2.0",
            "_view_name": "LayoutView",
            "align_content": null,
            "align_items": null,
            "align_self": null,
            "border": null,
            "bottom": null,
            "display": null,
            "flex": null,
            "flex_flow": null,
            "grid_area": null,
            "grid_auto_columns": null,
            "grid_auto_flow": null,
            "grid_auto_rows": null,
            "grid_column": null,
            "grid_gap": null,
            "grid_row": null,
            "grid_template_areas": null,
            "grid_template_columns": null,
            "grid_template_rows": null,
            "height": null,
            "justify_content": null,
            "justify_items": null,
            "left": null,
            "margin": null,
            "max_height": null,
            "max_width": null,
            "min_height": null,
            "min_width": null,
            "object_fit": null,
            "object_position": null,
            "order": null,
            "overflow": null,
            "overflow_x": null,
            "overflow_y": null,
            "padding": null,
            "right": null,
            "top": null,
            "visibility": null,
            "width": null
          }
        },
        "05612c2eb4d540ea96a7ed9793a007bf": {
          "model_module": "@jupyter-widgets/controls",
          "model_name": "ProgressStyleModel",
          "model_module_version": "1.5.0",
          "state": {
            "_model_module": "@jupyter-widgets/controls",
            "_model_module_version": "1.5.0",
            "_model_name": "ProgressStyleModel",
            "_view_count": null,
            "_view_module": "@jupyter-widgets/base",
            "_view_module_version": "1.2.0",
            "_view_name": "StyleView",
            "bar_color": null,
            "description_width": ""
          }
        },
        "af516c7f7630413caa68bce3d08546d4": {
          "model_module": "@jupyter-widgets/base",
          "model_name": "LayoutModel",
          "model_module_version": "1.2.0",
          "state": {
            "_model_module": "@jupyter-widgets/base",
            "_model_module_version": "1.2.0",
            "_model_name": "LayoutModel",
            "_view_count": null,
            "_view_module": "@jupyter-widgets/base",
            "_view_module_version": "1.2.0",
            "_view_name": "LayoutView",
            "align_content": null,
            "align_items": null,
            "align_self": null,
            "border": null,
            "bottom": null,
            "display": null,
            "flex": null,
            "flex_flow": null,
            "grid_area": null,
            "grid_auto_columns": null,
            "grid_auto_flow": null,
            "grid_auto_rows": null,
            "grid_column": null,
            "grid_gap": null,
            "grid_row": null,
            "grid_template_areas": null,
            "grid_template_columns": null,
            "grid_template_rows": null,
            "height": null,
            "justify_content": null,
            "justify_items": null,
            "left": null,
            "margin": null,
            "max_height": null,
            "max_width": null,
            "min_height": null,
            "min_width": null,
            "object_fit": null,
            "object_position": null,
            "order": null,
            "overflow": null,
            "overflow_x": null,
            "overflow_y": null,
            "padding": null,
            "right": null,
            "top": null,
            "visibility": null,
            "width": null
          }
        },
        "a0a40b8e21b34692bec8c20b3b046c9a": {
          "model_module": "@jupyter-widgets/controls",
          "model_name": "DescriptionStyleModel",
          "model_module_version": "1.5.0",
          "state": {
            "_model_module": "@jupyter-widgets/controls",
            "_model_module_version": "1.5.0",
            "_model_name": "DescriptionStyleModel",
            "_view_count": null,
            "_view_module": "@jupyter-widgets/base",
            "_view_module_version": "1.2.0",
            "_view_name": "StyleView",
            "description_width": ""
          }
        },
        "aef3473818f943d290f2be9589e0b438": {
          "model_module": "@jupyter-widgets/controls",
          "model_name": "HBoxModel",
          "model_module_version": "1.5.0",
          "state": {
            "_dom_classes": [],
            "_model_module": "@jupyter-widgets/controls",
            "_model_module_version": "1.5.0",
            "_model_name": "HBoxModel",
            "_view_count": null,
            "_view_module": "@jupyter-widgets/controls",
            "_view_module_version": "1.5.0",
            "_view_name": "HBoxView",
            "box_style": "",
            "children": [
              "IPY_MODEL_ba6c970fe1b140f99034cd060c3191a6",
              "IPY_MODEL_182d9e2a7e1f48ebb5e00cce27891ce8",
              "IPY_MODEL_7fc91db2fe58437d970b285546c7d855"
            ],
            "layout": "IPY_MODEL_ce153979f919492a8ee5435f5439f381"
          }
        },
        "ba6c970fe1b140f99034cd060c3191a6": {
          "model_module": "@jupyter-widgets/controls",
          "model_name": "HTMLModel",
          "model_module_version": "1.5.0",
          "state": {
            "_dom_classes": [],
            "_model_module": "@jupyter-widgets/controls",
            "_model_module_version": "1.5.0",
            "_model_name": "HTMLModel",
            "_view_count": null,
            "_view_module": "@jupyter-widgets/controls",
            "_view_module_version": "1.5.0",
            "_view_name": "HTMLView",
            "description": "",
            "description_tooltip": null,
            "layout": "IPY_MODEL_d9bd5b26fcd14bfa955ce5f787254bc8",
            "placeholder": "​",
            "style": "IPY_MODEL_07793df3073a42d6acfbffb927195e7e",
            "value": "model.safetensors: 100%"
          }
        },
        "182d9e2a7e1f48ebb5e00cce27891ce8": {
          "model_module": "@jupyter-widgets/controls",
          "model_name": "FloatProgressModel",
          "model_module_version": "1.5.0",
          "state": {
            "_dom_classes": [],
            "_model_module": "@jupyter-widgets/controls",
            "_model_module_version": "1.5.0",
            "_model_name": "FloatProgressModel",
            "_view_count": null,
            "_view_module": "@jupyter-widgets/controls",
            "_view_module_version": "1.5.0",
            "_view_name": "ProgressView",
            "bar_style": "success",
            "description": "",
            "description_tooltip": null,
            "layout": "IPY_MODEL_7cff3d3d5e1e4d4391ae23254580e066",
            "max": 1469676184,
            "min": 0,
            "orientation": "horizontal",
            "style": "IPY_MODEL_a7101ab2fed2446cba5410c63bae2cd0",
            "value": 1469676184
          }
        },
        "7fc91db2fe58437d970b285546c7d855": {
          "model_module": "@jupyter-widgets/controls",
          "model_name": "HTMLModel",
          "model_module_version": "1.5.0",
          "state": {
            "_dom_classes": [],
            "_model_module": "@jupyter-widgets/controls",
            "_model_module_version": "1.5.0",
            "_model_name": "HTMLModel",
            "_view_count": null,
            "_view_module": "@jupyter-widgets/controls",
            "_view_module_version": "1.5.0",
            "_view_name": "HTMLView",
            "description": "",
            "description_tooltip": null,
            "layout": "IPY_MODEL_fddbff0163164d8dbeb354146819199e",
            "placeholder": "​",
            "style": "IPY_MODEL_edd5cbeeef9146a682e088d0f2a138ac",
            "value": " 1.47G/1.47G [00:17&lt;00:00, 87.9MB/s]"
          }
        },
        "ce153979f919492a8ee5435f5439f381": {
          "model_module": "@jupyter-widgets/base",
          "model_name": "LayoutModel",
          "model_module_version": "1.2.0",
          "state": {
            "_model_module": "@jupyter-widgets/base",
            "_model_module_version": "1.2.0",
            "_model_name": "LayoutModel",
            "_view_count": null,
            "_view_module": "@jupyter-widgets/base",
            "_view_module_version": "1.2.0",
            "_view_name": "LayoutView",
            "align_content": null,
            "align_items": null,
            "align_self": null,
            "border": null,
            "bottom": null,
            "display": null,
            "flex": null,
            "flex_flow": null,
            "grid_area": null,
            "grid_auto_columns": null,
            "grid_auto_flow": null,
            "grid_auto_rows": null,
            "grid_column": null,
            "grid_gap": null,
            "grid_row": null,
            "grid_template_areas": null,
            "grid_template_columns": null,
            "grid_template_rows": null,
            "height": null,
            "justify_content": null,
            "justify_items": null,
            "left": null,
            "margin": null,
            "max_height": null,
            "max_width": null,
            "min_height": null,
            "min_width": null,
            "object_fit": null,
            "object_position": null,
            "order": null,
            "overflow": null,
            "overflow_x": null,
            "overflow_y": null,
            "padding": null,
            "right": null,
            "top": null,
            "visibility": null,
            "width": null
          }
        },
        "d9bd5b26fcd14bfa955ce5f787254bc8": {
          "model_module": "@jupyter-widgets/base",
          "model_name": "LayoutModel",
          "model_module_version": "1.2.0",
          "state": {
            "_model_module": "@jupyter-widgets/base",
            "_model_module_version": "1.2.0",
            "_model_name": "LayoutModel",
            "_view_count": null,
            "_view_module": "@jupyter-widgets/base",
            "_view_module_version": "1.2.0",
            "_view_name": "LayoutView",
            "align_content": null,
            "align_items": null,
            "align_self": null,
            "border": null,
            "bottom": null,
            "display": null,
            "flex": null,
            "flex_flow": null,
            "grid_area": null,
            "grid_auto_columns": null,
            "grid_auto_flow": null,
            "grid_auto_rows": null,
            "grid_column": null,
            "grid_gap": null,
            "grid_row": null,
            "grid_template_areas": null,
            "grid_template_columns": null,
            "grid_template_rows": null,
            "height": null,
            "justify_content": null,
            "justify_items": null,
            "left": null,
            "margin": null,
            "max_height": null,
            "max_width": null,
            "min_height": null,
            "min_width": null,
            "object_fit": null,
            "object_position": null,
            "order": null,
            "overflow": null,
            "overflow_x": null,
            "overflow_y": null,
            "padding": null,
            "right": null,
            "top": null,
            "visibility": null,
            "width": null
          }
        },
        "07793df3073a42d6acfbffb927195e7e": {
          "model_module": "@jupyter-widgets/controls",
          "model_name": "DescriptionStyleModel",
          "model_module_version": "1.5.0",
          "state": {
            "_model_module": "@jupyter-widgets/controls",
            "_model_module_version": "1.5.0",
            "_model_name": "DescriptionStyleModel",
            "_view_count": null,
            "_view_module": "@jupyter-widgets/base",
            "_view_module_version": "1.2.0",
            "_view_name": "StyleView",
            "description_width": ""
          }
        },
        "7cff3d3d5e1e4d4391ae23254580e066": {
          "model_module": "@jupyter-widgets/base",
          "model_name": "LayoutModel",
          "model_module_version": "1.2.0",
          "state": {
            "_model_module": "@jupyter-widgets/base",
            "_model_module_version": "1.2.0",
            "_model_name": "LayoutModel",
            "_view_count": null,
            "_view_module": "@jupyter-widgets/base",
            "_view_module_version": "1.2.0",
            "_view_name": "LayoutView",
            "align_content": null,
            "align_items": null,
            "align_self": null,
            "border": null,
            "bottom": null,
            "display": null,
            "flex": null,
            "flex_flow": null,
            "grid_area": null,
            "grid_auto_columns": null,
            "grid_auto_flow": null,
            "grid_auto_rows": null,
            "grid_column": null,
            "grid_gap": null,
            "grid_row": null,
            "grid_template_areas": null,
            "grid_template_columns": null,
            "grid_template_rows": null,
            "height": null,
            "justify_content": null,
            "justify_items": null,
            "left": null,
            "margin": null,
            "max_height": null,
            "max_width": null,
            "min_height": null,
            "min_width": null,
            "object_fit": null,
            "object_position": null,
            "order": null,
            "overflow": null,
            "overflow_x": null,
            "overflow_y": null,
            "padding": null,
            "right": null,
            "top": null,
            "visibility": null,
            "width": null
          }
        },
        "a7101ab2fed2446cba5410c63bae2cd0": {
          "model_module": "@jupyter-widgets/controls",
          "model_name": "ProgressStyleModel",
          "model_module_version": "1.5.0",
          "state": {
            "_model_module": "@jupyter-widgets/controls",
            "_model_module_version": "1.5.0",
            "_model_name": "ProgressStyleModel",
            "_view_count": null,
            "_view_module": "@jupyter-widgets/base",
            "_view_module_version": "1.2.0",
            "_view_name": "StyleView",
            "bar_color": null,
            "description_width": ""
          }
        },
        "fddbff0163164d8dbeb354146819199e": {
          "model_module": "@jupyter-widgets/base",
          "model_name": "LayoutModel",
          "model_module_version": "1.2.0",
          "state": {
            "_model_module": "@jupyter-widgets/base",
            "_model_module_version": "1.2.0",
            "_model_name": "LayoutModel",
            "_view_count": null,
            "_view_module": "@jupyter-widgets/base",
            "_view_module_version": "1.2.0",
            "_view_name": "LayoutView",
            "align_content": null,
            "align_items": null,
            "align_self": null,
            "border": null,
            "bottom": null,
            "display": null,
            "flex": null,
            "flex_flow": null,
            "grid_area": null,
            "grid_auto_columns": null,
            "grid_auto_flow": null,
            "grid_auto_rows": null,
            "grid_column": null,
            "grid_gap": null,
            "grid_row": null,
            "grid_template_areas": null,
            "grid_template_columns": null,
            "grid_template_rows": null,
            "height": null,
            "justify_content": null,
            "justify_items": null,
            "left": null,
            "margin": null,
            "max_height": null,
            "max_width": null,
            "min_height": null,
            "min_width": null,
            "object_fit": null,
            "object_position": null,
            "order": null,
            "overflow": null,
            "overflow_x": null,
            "overflow_y": null,
            "padding": null,
            "right": null,
            "top": null,
            "visibility": null,
            "width": null
          }
        },
        "edd5cbeeef9146a682e088d0f2a138ac": {
          "model_module": "@jupyter-widgets/controls",
          "model_name": "DescriptionStyleModel",
          "model_module_version": "1.5.0",
          "state": {
            "_model_module": "@jupyter-widgets/controls",
            "_model_module_version": "1.5.0",
            "_model_name": "DescriptionStyleModel",
            "_view_count": null,
            "_view_module": "@jupyter-widgets/base",
            "_view_module_version": "1.2.0",
            "_view_name": "StyleView",
            "description_width": ""
          }
        }
      }
    }
  },
  "cells": [
    {
      "cell_type": "markdown",
      "source": [
        "# GPN Cup 2024. Тематическое моделирование\n",
        "# Трапер Максим\n",
        "\n",
        "## Задача\n",
        "В архиве вы найдете файл, который предварительно оцифровал и обработал Лютик\n",
        "\n",
        "1. Предложите решение по выделению подмножества тематик и их описания из общего корпуса цитат.\n",
        "    \n",
        "2. Предположим, Йеннифер и Трисс поставят эту активность как регулярную, проводя интервью раз в месяц по разным доменам предприятия. Предложите варианты, как Лютику сделать для них легковесную систему по обработке новых цитат из опросов с учетом уже накопленной истории извлеченных тематик и тегов.\n",
        "\n"
      ],
      "metadata": {
        "id": "MNJNUW6-RD9z"
      }
    },
    {
      "cell_type": "markdown",
      "source": [
        "# 0. Теоретическое введение"
      ],
      "metadata": {
        "id": "txGN_uV7JF0y"
      }
    },
    {
      "cell_type": "markdown",
      "source": [
        "# Push notebook to Git (for Google Colaboratory)"
      ],
      "metadata": {
        "id": "vqKReVrSJ-4S"
      }
    },
    {
      "cell_type": "markdown",
      "source": [
        "# 1. Ход решения"
      ],
      "metadata": {
        "id": "OqZ2PFjPRUff"
      }
    },
    {
      "cell_type": "markdown",
      "source": [
        "## 1.1 Предварительная подготовка"
      ],
      "metadata": {
        "id": "BKCTEqIGJVEz"
      }
    },
    {
      "cell_type": "code",
      "source": [
        "! git clone https://github.com/MaksimTraper/TopicModel_GPN_Cup_2024.git"
      ],
      "metadata": {
        "id": "lTqJ0IdNKca9"
      },
      "execution_count": null,
      "outputs": []
    },
    {
      "cell_type": "markdown",
      "source": [
        "### 1.1 Установка библиотек"
      ],
      "metadata": {
        "id": "6dbdyAhgBCvH"
      }
    },
    {
      "cell_type": "code",
      "source": [
        "!pip install langchain-community langchain-core\n",
        "!pip install pyspellchecker\n",
        "!pip install llama-cpp-python\n",
        "\n",
        "! git clone https://github.com/ai-forever/sage.git\n",
        "\n",
        "%cd sage\n",
        "! pip install .\n",
        "! pip install -e .[errant]\n",
        "\n",
        "!pip install pyaspeller"
      ],
      "metadata": {
        "colab": {
          "base_uri": "https://localhost:8080/"
        },
        "id": "BNGCw_z91wI_",
        "outputId": "c98384dd-af71-446a-d272-c5e9c28c8404"
      },
      "execution_count": null,
      "outputs": [
        {
          "output_type": "stream",
          "name": "stdout",
          "text": [
            "Requirement already satisfied: langchain-community in /usr/local/lib/python3.10/dist-packages (0.3.5)\n",
            "Requirement already satisfied: langchain-core in /usr/local/lib/python3.10/dist-packages (0.3.15)\n",
            "Requirement already satisfied: PyYAML>=5.3 in /usr/local/lib/python3.10/dist-packages (from langchain-community) (6.0.2)\n",
            "Requirement already satisfied: SQLAlchemy<2.0.36,>=1.4 in /usr/local/lib/python3.10/dist-packages (from langchain-community) (2.0.35)\n",
            "Requirement already satisfied: aiohttp<4.0.0,>=3.8.3 in /usr/local/lib/python3.10/dist-packages (from langchain-community) (3.10.10)\n",
            "Requirement already satisfied: dataclasses-json<0.7,>=0.5.7 in /usr/local/lib/python3.10/dist-packages (from langchain-community) (0.6.7)\n",
            "Requirement already satisfied: httpx-sse<0.5.0,>=0.4.0 in /usr/local/lib/python3.10/dist-packages (from langchain-community) (0.4.0)\n",
            "Requirement already satisfied: langchain<0.4.0,>=0.3.6 in /usr/local/lib/python3.10/dist-packages (from langchain-community) (0.3.7)\n",
            "Requirement already satisfied: langsmith<0.2.0,>=0.1.125 in /usr/local/lib/python3.10/dist-packages (from langchain-community) (0.1.137)\n",
            "Requirement already satisfied: numpy<2,>=1 in /usr/local/lib/python3.10/dist-packages (from langchain-community) (1.26.4)\n",
            "Requirement already satisfied: pydantic-settings<3.0.0,>=2.4.0 in /usr/local/lib/python3.10/dist-packages (from langchain-community) (2.6.1)\n",
            "Requirement already satisfied: requests<3,>=2 in /usr/local/lib/python3.10/dist-packages (from langchain-community) (2.32.3)\n",
            "Requirement already satisfied: tenacity!=8.4.0,<10,>=8.1.0 in /usr/local/lib/python3.10/dist-packages (from langchain-community) (9.0.0)\n",
            "Requirement already satisfied: jsonpatch<2.0,>=1.33 in /usr/local/lib/python3.10/dist-packages (from langchain-core) (1.33)\n",
            "Requirement already satisfied: packaging<25,>=23.2 in /usr/local/lib/python3.10/dist-packages (from langchain-core) (24.1)\n",
            "Requirement already satisfied: pydantic<3.0.0,>=2.5.2 in /usr/local/lib/python3.10/dist-packages (from langchain-core) (2.9.2)\n",
            "Requirement already satisfied: typing-extensions>=4.7 in /usr/local/lib/python3.10/dist-packages (from langchain-core) (4.12.2)\n",
            "Requirement already satisfied: aiohappyeyeballs>=2.3.0 in /usr/local/lib/python3.10/dist-packages (from aiohttp<4.0.0,>=3.8.3->langchain-community) (2.4.3)\n",
            "Requirement already satisfied: aiosignal>=1.1.2 in /usr/local/lib/python3.10/dist-packages (from aiohttp<4.0.0,>=3.8.3->langchain-community) (1.3.1)\n",
            "Requirement already satisfied: attrs>=17.3.0 in /usr/local/lib/python3.10/dist-packages (from aiohttp<4.0.0,>=3.8.3->langchain-community) (24.2.0)\n",
            "Requirement already satisfied: frozenlist>=1.1.1 in /usr/local/lib/python3.10/dist-packages (from aiohttp<4.0.0,>=3.8.3->langchain-community) (1.5.0)\n",
            "Requirement already satisfied: multidict<7.0,>=4.5 in /usr/local/lib/python3.10/dist-packages (from aiohttp<4.0.0,>=3.8.3->langchain-community) (6.1.0)\n",
            "Requirement already satisfied: yarl<2.0,>=1.12.0 in /usr/local/lib/python3.10/dist-packages (from aiohttp<4.0.0,>=3.8.3->langchain-community) (1.17.0)\n",
            "Requirement already satisfied: async-timeout<5.0,>=4.0 in /usr/local/lib/python3.10/dist-packages (from aiohttp<4.0.0,>=3.8.3->langchain-community) (4.0.3)\n",
            "Requirement already satisfied: marshmallow<4.0.0,>=3.18.0 in /usr/local/lib/python3.10/dist-packages (from dataclasses-json<0.7,>=0.5.7->langchain-community) (3.23.1)\n",
            "Requirement already satisfied: typing-inspect<1,>=0.4.0 in /usr/local/lib/python3.10/dist-packages (from dataclasses-json<0.7,>=0.5.7->langchain-community) (0.9.0)\n",
            "Requirement already satisfied: jsonpointer>=1.9 in /usr/local/lib/python3.10/dist-packages (from jsonpatch<2.0,>=1.33->langchain-core) (3.0.0)\n",
            "Requirement already satisfied: langchain-text-splitters<0.4.0,>=0.3.0 in /usr/local/lib/python3.10/dist-packages (from langchain<0.4.0,>=0.3.6->langchain-community) (0.3.0)\n",
            "Requirement already satisfied: httpx<1,>=0.23.0 in /usr/local/lib/python3.10/dist-packages (from langsmith<0.2.0,>=0.1.125->langchain-community) (0.27.2)\n",
            "Requirement already satisfied: orjson<4.0.0,>=3.9.14 in /usr/local/lib/python3.10/dist-packages (from langsmith<0.2.0,>=0.1.125->langchain-community) (3.10.10)\n",
            "Requirement already satisfied: requests-toolbelt<2.0.0,>=1.0.0 in /usr/local/lib/python3.10/dist-packages (from langsmith<0.2.0,>=0.1.125->langchain-community) (1.0.0)\n",
            "Requirement already satisfied: annotated-types>=0.6.0 in /usr/local/lib/python3.10/dist-packages (from pydantic<3.0.0,>=2.5.2->langchain-core) (0.7.0)\n",
            "Requirement already satisfied: pydantic-core==2.23.4 in /usr/local/lib/python3.10/dist-packages (from pydantic<3.0.0,>=2.5.2->langchain-core) (2.23.4)\n",
            "Requirement already satisfied: python-dotenv>=0.21.0 in /usr/local/lib/python3.10/dist-packages (from pydantic-settings<3.0.0,>=2.4.0->langchain-community) (1.0.1)\n",
            "Requirement already satisfied: charset-normalizer<4,>=2 in /usr/local/lib/python3.10/dist-packages (from requests<3,>=2->langchain-community) (3.4.0)\n",
            "Requirement already satisfied: idna<4,>=2.5 in /usr/local/lib/python3.10/dist-packages (from requests<3,>=2->langchain-community) (3.10)\n",
            "Requirement already satisfied: urllib3<3,>=1.21.1 in /usr/local/lib/python3.10/dist-packages (from requests<3,>=2->langchain-community) (2.2.3)\n",
            "Requirement already satisfied: certifi>=2017.4.17 in /usr/local/lib/python3.10/dist-packages (from requests<3,>=2->langchain-community) (2024.8.30)\n",
            "Requirement already satisfied: greenlet!=0.4.17 in /usr/local/lib/python3.10/dist-packages (from SQLAlchemy<2.0.36,>=1.4->langchain-community) (3.1.1)\n",
            "Requirement already satisfied: anyio in /usr/local/lib/python3.10/dist-packages (from httpx<1,>=0.23.0->langsmith<0.2.0,>=0.1.125->langchain-community) (3.7.1)\n",
            "Requirement already satisfied: httpcore==1.* in /usr/local/lib/python3.10/dist-packages (from httpx<1,>=0.23.0->langsmith<0.2.0,>=0.1.125->langchain-community) (1.0.6)\n",
            "Requirement already satisfied: sniffio in /usr/local/lib/python3.10/dist-packages (from httpx<1,>=0.23.0->langsmith<0.2.0,>=0.1.125->langchain-community) (1.3.1)\n",
            "Requirement already satisfied: h11<0.15,>=0.13 in /usr/local/lib/python3.10/dist-packages (from httpcore==1.*->httpx<1,>=0.23.0->langsmith<0.2.0,>=0.1.125->langchain-community) (0.14.0)\n",
            "Requirement already satisfied: mypy-extensions>=0.3.0 in /usr/local/lib/python3.10/dist-packages (from typing-inspect<1,>=0.4.0->dataclasses-json<0.7,>=0.5.7->langchain-community) (1.0.0)\n",
            "Requirement already satisfied: propcache>=0.2.0 in /usr/local/lib/python3.10/dist-packages (from yarl<2.0,>=1.12.0->aiohttp<4.0.0,>=3.8.3->langchain-community) (0.2.0)\n",
            "Requirement already satisfied: exceptiongroup in /usr/local/lib/python3.10/dist-packages (from anyio->httpx<1,>=0.23.0->langsmith<0.2.0,>=0.1.125->langchain-community) (1.2.2)\n",
            "Requirement already satisfied: pyspellchecker in /usr/local/lib/python3.10/dist-packages (0.8.1)\n",
            "Requirement already satisfied: llama-cpp-python in /usr/local/lib/python3.10/dist-packages (0.3.1)\n",
            "Requirement already satisfied: typing-extensions>=4.5.0 in /usr/local/lib/python3.10/dist-packages (from llama-cpp-python) (4.12.2)\n",
            "Requirement already satisfied: numpy>=1.20.0 in /usr/local/lib/python3.10/dist-packages (from llama-cpp-python) (1.26.4)\n",
            "Requirement already satisfied: diskcache>=5.6.1 in /usr/local/lib/python3.10/dist-packages (from llama-cpp-python) (5.6.3)\n",
            "Requirement already satisfied: jinja2>=2.11.3 in /usr/local/lib/python3.10/dist-packages (from llama-cpp-python) (3.1.4)\n",
            "Requirement already satisfied: MarkupSafe>=2.0 in /usr/local/lib/python3.10/dist-packages (from jinja2>=2.11.3->llama-cpp-python) (3.0.2)\n",
            "fatal: destination path 'sage' already exists and is not an empty directory.\n",
            "/content/sage\n",
            "Processing /content/sage\n",
            "  Preparing metadata (setup.py) ... \u001b[?25l\u001b[?25hdone\n",
            "Processing ./wheels/augmentex-1.0.3-py3-none-any.whl (from sage==1.1.0)\n",
            "Requirement already satisfied: numpy in /usr/local/lib/python3.10/dist-packages (from sage==1.1.0) (1.26.4)\n",
            "Requirement already satisfied: pandas in /usr/local/lib/python3.10/dist-packages (from sage==1.1.0) (2.2.2)\n",
            "Requirement already satisfied: tqdm in /usr/local/lib/python3.10/dist-packages (from sage==1.1.0) (4.66.6)\n",
            "Requirement already satisfied: pyyaml in /usr/local/lib/python3.10/dist-packages (from sage==1.1.0) (6.0.2)\n",
            "Requirement already satisfied: packaging in /usr/local/lib/python3.10/dist-packages (from sage==1.1.0) (24.1)\n",
            "Requirement already satisfied: requests in /usr/local/lib/python3.10/dist-packages (from sage==1.1.0) (2.32.3)\n",
            "Requirement already satisfied: sentencepiece in /usr/local/lib/python3.10/dist-packages (from sage==1.1.0) (0.2.0)\n",
            "Requirement already satisfied: datasets in /usr/local/lib/python3.10/dist-packages (from sage==1.1.0) (3.1.0)\n",
            "Requirement already satisfied: protobuf in /usr/local/lib/python3.10/dist-packages (from sage==1.1.0) (3.20.3)\n",
            "Requirement already satisfied: timeout_decorator in /usr/local/lib/python3.10/dist-packages (from sage==1.1.0) (0.5.0)\n",
            "Requirement already satisfied: matplotlib<3.7,>=3.2 in /usr/local/lib/python3.10/dist-packages (from sage==1.1.0) (3.6.3)\n",
            "Requirement already satisfied: torch<=2.2.0,>=1.9.0 in /usr/local/lib/python3.10/dist-packages (from sage==1.1.0) (2.2.0)\n",
            "Requirement already satisfied: transformers>=4.20.0 in /usr/local/lib/python3.10/dist-packages (from sage==1.1.0) (4.44.2)\n",
            "Requirement already satisfied: contourpy>=1.0.1 in /usr/local/lib/python3.10/dist-packages (from matplotlib<3.7,>=3.2->sage==1.1.0) (1.3.0)\n",
            "Requirement already satisfied: cycler>=0.10 in /usr/local/lib/python3.10/dist-packages (from matplotlib<3.7,>=3.2->sage==1.1.0) (0.12.1)\n",
            "Requirement already satisfied: fonttools>=4.22.0 in /usr/local/lib/python3.10/dist-packages (from matplotlib<3.7,>=3.2->sage==1.1.0) (4.54.1)\n",
            "Requirement already satisfied: kiwisolver>=1.0.1 in /usr/local/lib/python3.10/dist-packages (from matplotlib<3.7,>=3.2->sage==1.1.0) (1.4.7)\n",
            "Requirement already satisfied: pillow>=6.2.0 in /usr/local/lib/python3.10/dist-packages (from matplotlib<3.7,>=3.2->sage==1.1.0) (10.4.0)\n",
            "Requirement already satisfied: pyparsing>=2.2.1 in /usr/local/lib/python3.10/dist-packages (from matplotlib<3.7,>=3.2->sage==1.1.0) (3.2.0)\n",
            "Requirement already satisfied: python-dateutil>=2.7 in /usr/local/lib/python3.10/dist-packages (from matplotlib<3.7,>=3.2->sage==1.1.0) (2.8.2)\n",
            "Requirement already satisfied: filelock in /usr/local/lib/python3.10/dist-packages (from torch<=2.2.0,>=1.9.0->sage==1.1.0) (3.16.1)\n",
            "Requirement already satisfied: typing-extensions>=4.8.0 in /usr/local/lib/python3.10/dist-packages (from torch<=2.2.0,>=1.9.0->sage==1.1.0) (4.12.2)\n",
            "Requirement already satisfied: sympy in /usr/local/lib/python3.10/dist-packages (from torch<=2.2.0,>=1.9.0->sage==1.1.0) (1.13.1)\n",
            "Requirement already satisfied: networkx in /usr/local/lib/python3.10/dist-packages (from torch<=2.2.0,>=1.9.0->sage==1.1.0) (3.4.2)\n",
            "Requirement already satisfied: jinja2 in /usr/local/lib/python3.10/dist-packages (from torch<=2.2.0,>=1.9.0->sage==1.1.0) (3.1.4)\n",
            "Requirement already satisfied: fsspec in /usr/local/lib/python3.10/dist-packages (from torch<=2.2.0,>=1.9.0->sage==1.1.0) (2024.9.0)\n",
            "Requirement already satisfied: nvidia-cuda-nvrtc-cu12==12.1.105 in /usr/local/lib/python3.10/dist-packages (from torch<=2.2.0,>=1.9.0->sage==1.1.0) (12.1.105)\n",
            "Requirement already satisfied: nvidia-cuda-runtime-cu12==12.1.105 in /usr/local/lib/python3.10/dist-packages (from torch<=2.2.0,>=1.9.0->sage==1.1.0) (12.1.105)\n",
            "Requirement already satisfied: nvidia-cuda-cupti-cu12==12.1.105 in /usr/local/lib/python3.10/dist-packages (from torch<=2.2.0,>=1.9.0->sage==1.1.0) (12.1.105)\n",
            "Requirement already satisfied: nvidia-cudnn-cu12==8.9.2.26 in /usr/local/lib/python3.10/dist-packages (from torch<=2.2.0,>=1.9.0->sage==1.1.0) (8.9.2.26)\n",
            "Requirement already satisfied: nvidia-cublas-cu12==12.1.3.1 in /usr/local/lib/python3.10/dist-packages (from torch<=2.2.0,>=1.9.0->sage==1.1.0) (12.1.3.1)\n",
            "Requirement already satisfied: nvidia-cufft-cu12==11.0.2.54 in /usr/local/lib/python3.10/dist-packages (from torch<=2.2.0,>=1.9.0->sage==1.1.0) (11.0.2.54)\n",
            "Requirement already satisfied: nvidia-curand-cu12==10.3.2.106 in /usr/local/lib/python3.10/dist-packages (from torch<=2.2.0,>=1.9.0->sage==1.1.0) (10.3.2.106)\n",
            "Requirement already satisfied: nvidia-cusolver-cu12==11.4.5.107 in /usr/local/lib/python3.10/dist-packages (from torch<=2.2.0,>=1.9.0->sage==1.1.0) (11.4.5.107)\n",
            "Requirement already satisfied: nvidia-cusparse-cu12==12.1.0.106 in /usr/local/lib/python3.10/dist-packages (from torch<=2.2.0,>=1.9.0->sage==1.1.0) (12.1.0.106)\n",
            "Requirement already satisfied: nvidia-nccl-cu12==2.19.3 in /usr/local/lib/python3.10/dist-packages (from torch<=2.2.0,>=1.9.0->sage==1.1.0) (2.19.3)\n",
            "Requirement already satisfied: nvidia-nvtx-cu12==12.1.105 in /usr/local/lib/python3.10/dist-packages (from torch<=2.2.0,>=1.9.0->sage==1.1.0) (12.1.105)\n",
            "Requirement already satisfied: triton==2.2.0 in /usr/local/lib/python3.10/dist-packages (from torch<=2.2.0,>=1.9.0->sage==1.1.0) (2.2.0)\n",
            "Requirement already satisfied: nvidia-nvjitlink-cu12 in /usr/local/lib/python3.10/dist-packages (from nvidia-cusolver-cu12==11.4.5.107->torch<=2.2.0,>=1.9.0->sage==1.1.0) (12.6.77)\n",
            "Requirement already satisfied: huggingface-hub<1.0,>=0.23.2 in /usr/local/lib/python3.10/dist-packages (from transformers>=4.20.0->sage==1.1.0) (0.24.7)\n",
            "Requirement already satisfied: regex!=2019.12.17 in /usr/local/lib/python3.10/dist-packages (from transformers>=4.20.0->sage==1.1.0) (2024.9.11)\n",
            "Requirement already satisfied: safetensors>=0.4.1 in /usr/local/lib/python3.10/dist-packages (from transformers>=4.20.0->sage==1.1.0) (0.4.5)\n",
            "Requirement already satisfied: tokenizers<0.20,>=0.19 in /usr/local/lib/python3.10/dist-packages (from transformers>=4.20.0->sage==1.1.0) (0.19.1)\n",
            "Requirement already satisfied: pyarrow>=15.0.0 in /usr/local/lib/python3.10/dist-packages (from datasets->sage==1.1.0) (17.0.0)\n",
            "Requirement already satisfied: dill<0.3.9,>=0.3.0 in /usr/local/lib/python3.10/dist-packages (from datasets->sage==1.1.0) (0.3.8)\n",
            "Requirement already satisfied: xxhash in /usr/local/lib/python3.10/dist-packages (from datasets->sage==1.1.0) (3.5.0)\n",
            "Requirement already satisfied: multiprocess<0.70.17 in /usr/local/lib/python3.10/dist-packages (from datasets->sage==1.1.0) (0.70.16)\n",
            "Requirement already satisfied: aiohttp in /usr/local/lib/python3.10/dist-packages (from datasets->sage==1.1.0) (3.10.10)\n",
            "Requirement already satisfied: charset-normalizer<4,>=2 in /usr/local/lib/python3.10/dist-packages (from requests->sage==1.1.0) (3.4.0)\n",
            "Requirement already satisfied: idna<4,>=2.5 in /usr/local/lib/python3.10/dist-packages (from requests->sage==1.1.0) (3.10)\n",
            "Requirement already satisfied: urllib3<3,>=1.21.1 in /usr/local/lib/python3.10/dist-packages (from requests->sage==1.1.0) (2.2.3)\n",
            "Requirement already satisfied: certifi>=2017.4.17 in /usr/local/lib/python3.10/dist-packages (from requests->sage==1.1.0) (2024.8.30)\n",
            "Requirement already satisfied: pytz>=2020.1 in /usr/local/lib/python3.10/dist-packages (from pandas->sage==1.1.0) (2024.2)\n",
            "Requirement already satisfied: tzdata>=2022.7 in /usr/local/lib/python3.10/dist-packages (from pandas->sage==1.1.0) (2024.2)\n",
            "Requirement already satisfied: aiohappyeyeballs>=2.3.0 in /usr/local/lib/python3.10/dist-packages (from aiohttp->datasets->sage==1.1.0) (2.4.3)\n",
            "Requirement already satisfied: aiosignal>=1.1.2 in /usr/local/lib/python3.10/dist-packages (from aiohttp->datasets->sage==1.1.0) (1.3.1)\n",
            "Requirement already satisfied: attrs>=17.3.0 in /usr/local/lib/python3.10/dist-packages (from aiohttp->datasets->sage==1.1.0) (24.2.0)\n",
            "Requirement already satisfied: frozenlist>=1.1.1 in /usr/local/lib/python3.10/dist-packages (from aiohttp->datasets->sage==1.1.0) (1.5.0)\n",
            "Requirement already satisfied: multidict<7.0,>=4.5 in /usr/local/lib/python3.10/dist-packages (from aiohttp->datasets->sage==1.1.0) (6.1.0)\n",
            "Requirement already satisfied: yarl<2.0,>=1.12.0 in /usr/local/lib/python3.10/dist-packages (from aiohttp->datasets->sage==1.1.0) (1.17.0)\n",
            "Requirement already satisfied: async-timeout<5.0,>=4.0 in /usr/local/lib/python3.10/dist-packages (from aiohttp->datasets->sage==1.1.0) (4.0.3)\n",
            "Requirement already satisfied: six>=1.5 in /usr/local/lib/python3.10/dist-packages (from python-dateutil>=2.7->matplotlib<3.7,>=3.2->sage==1.1.0) (1.16.0)\n",
            "Requirement already satisfied: MarkupSafe>=2.0 in /usr/local/lib/python3.10/dist-packages (from jinja2->torch<=2.2.0,>=1.9.0->sage==1.1.0) (3.0.2)\n",
            "Requirement already satisfied: mpmath<1.4,>=1.1.0 in /usr/local/lib/python3.10/dist-packages (from sympy->torch<=2.2.0,>=1.9.0->sage==1.1.0) (1.3.0)\n",
            "Requirement already satisfied: propcache>=0.2.0 in /usr/local/lib/python3.10/dist-packages (from yarl<2.0,>=1.12.0->aiohttp->datasets->sage==1.1.0) (0.2.0)\n",
            "augmentex is already installed with the same version as the provided wheel. Use --force-reinstall to force an installation of the wheel.\n",
            "Building wheels for collected packages: sage\n",
            "  Building wheel for sage (setup.py) ... \u001b[?25l\u001b[?25hdone\n",
            "  Created wheel for sage: filename=sage-1.1.0-py3-none-any.whl size=47141 sha256=f7beee45d00f156222cf73d253a09e5944fd8ae8e6417a6ca06b473462dc654c\n",
            "  Stored in directory: /tmp/pip-ephem-wheel-cache-y_98galb/wheels/f6/fb/b3/1a788356f44a49d04bc8fdc67921c8b7f36cef909ee0b9615e\n",
            "Successfully built sage\n",
            "Installing collected packages: sage\n",
            "  Attempting uninstall: sage\n",
            "    Found existing installation: sage 1.1.0\n",
            "    Uninstalling sage-1.1.0:\n",
            "      Successfully uninstalled sage-1.1.0\n",
            "Successfully installed sage-1.1.0\n",
            "Obtaining file:///content/sage\n",
            "  Preparing metadata (setup.py) ... \u001b[?25l\u001b[?25hdone\n",
            "Processing ./wheels/augmentex-1.0.3-py3-none-any.whl (from sage==1.1.0)\n",
            "Requirement already satisfied: numpy in /usr/local/lib/python3.10/dist-packages (from sage==1.1.0) (1.26.4)\n",
            "Requirement already satisfied: pandas in /usr/local/lib/python3.10/dist-packages (from sage==1.1.0) (2.2.2)\n",
            "Requirement already satisfied: tqdm in /usr/local/lib/python3.10/dist-packages (from sage==1.1.0) (4.66.6)\n",
            "Requirement already satisfied: pyyaml in /usr/local/lib/python3.10/dist-packages (from sage==1.1.0) (6.0.2)\n",
            "Requirement already satisfied: packaging in /usr/local/lib/python3.10/dist-packages (from sage==1.1.0) (24.1)\n",
            "Requirement already satisfied: requests in /usr/local/lib/python3.10/dist-packages (from sage==1.1.0) (2.32.3)\n",
            "Requirement already satisfied: sentencepiece in /usr/local/lib/python3.10/dist-packages (from sage==1.1.0) (0.2.0)\n",
            "Requirement already satisfied: datasets in /usr/local/lib/python3.10/dist-packages (from sage==1.1.0) (3.1.0)\n",
            "Requirement already satisfied: protobuf in /usr/local/lib/python3.10/dist-packages (from sage==1.1.0) (3.20.3)\n",
            "Requirement already satisfied: timeout_decorator in /usr/local/lib/python3.10/dist-packages (from sage==1.1.0) (0.5.0)\n",
            "Requirement already satisfied: matplotlib<3.7,>=3.2 in /usr/local/lib/python3.10/dist-packages (from sage==1.1.0) (3.6.3)\n",
            "Requirement already satisfied: torch<=2.2.0,>=1.9.0 in /usr/local/lib/python3.10/dist-packages (from sage==1.1.0) (2.2.0)\n",
            "Requirement already satisfied: transformers>=4.20.0 in /usr/local/lib/python3.10/dist-packages (from sage==1.1.0) (4.44.2)\n",
            "Collecting ru-core-news-lg@ https://huggingface.co/spacy/ru_core_news_lg/resolve/main/ru_core_news_lg-any-py3-none-any.whl (from sage==1.1.0)\n",
            "  Downloading https://huggingface.co/spacy/ru_core_news_lg/resolve/main/ru_core_news_lg-any-py3-none-any.whl (513.4 MB)\n",
            "\u001b[2K     \u001b[90m━━━━━━━━━━━━━━━━━━━━━━━━━━━━━━━━━━━━━━━━\u001b[0m \u001b[32m513.4/513.4 MB\u001b[0m \u001b[31m966.6 kB/s\u001b[0m eta \u001b[36m0:00:00\u001b[0m\n",
            "\u001b[?25hCollecting errant@ git+https://github.com/Askinkaty/errant/@4183e57 (from sage==1.1.0)\n",
            "  Cloning https://github.com/Askinkaty/errant/ (to revision 4183e57) to /tmp/pip-install-_jblaa4i/errant_ca49bec8038f4e04ae8cda6758f17c09\n",
            "  Running command git clone --filter=blob:none --quiet https://github.com/Askinkaty/errant/ /tmp/pip-install-_jblaa4i/errant_ca49bec8038f4e04ae8cda6758f17c09\n",
            "\u001b[33m  WARNING: Did not find branch or tag '4183e57', assuming revision or ref.\u001b[0m\u001b[33m\n",
            "\u001b[0m  Running command git checkout -q 4183e57\n",
            "  Resolved https://github.com/Askinkaty/errant/ to commit 4183e57\n",
            "  Preparing metadata (setup.py) ... \u001b[?25l\u001b[?25hdone\n",
            "Collecting Levenshtein (from sage==1.1.0)\n",
            "  Downloading levenshtein-0.26.1-cp310-cp310-manylinux_2_17_x86_64.manylinux2014_x86_64.whl.metadata (3.2 kB)\n",
            "Requirement already satisfied: contourpy>=1.0.1 in /usr/local/lib/python3.10/dist-packages (from matplotlib<3.7,>=3.2->sage==1.1.0) (1.3.0)\n",
            "Requirement already satisfied: cycler>=0.10 in /usr/local/lib/python3.10/dist-packages (from matplotlib<3.7,>=3.2->sage==1.1.0) (0.12.1)\n",
            "Requirement already satisfied: fonttools>=4.22.0 in /usr/local/lib/python3.10/dist-packages (from matplotlib<3.7,>=3.2->sage==1.1.0) (4.54.1)\n",
            "Requirement already satisfied: kiwisolver>=1.0.1 in /usr/local/lib/python3.10/dist-packages (from matplotlib<3.7,>=3.2->sage==1.1.0) (1.4.7)\n",
            "Requirement already satisfied: pillow>=6.2.0 in /usr/local/lib/python3.10/dist-packages (from matplotlib<3.7,>=3.2->sage==1.1.0) (10.4.0)\n",
            "Requirement already satisfied: pyparsing>=2.2.1 in /usr/local/lib/python3.10/dist-packages (from matplotlib<3.7,>=3.2->sage==1.1.0) (3.2.0)\n",
            "Requirement already satisfied: python-dateutil>=2.7 in /usr/local/lib/python3.10/dist-packages (from matplotlib<3.7,>=3.2->sage==1.1.0) (2.8.2)\n",
            "Requirement already satisfied: filelock in /usr/local/lib/python3.10/dist-packages (from torch<=2.2.0,>=1.9.0->sage==1.1.0) (3.16.1)\n",
            "Requirement already satisfied: typing-extensions>=4.8.0 in /usr/local/lib/python3.10/dist-packages (from torch<=2.2.0,>=1.9.0->sage==1.1.0) (4.12.2)\n",
            "Requirement already satisfied: sympy in /usr/local/lib/python3.10/dist-packages (from torch<=2.2.0,>=1.9.0->sage==1.1.0) (1.13.1)\n",
            "Requirement already satisfied: networkx in /usr/local/lib/python3.10/dist-packages (from torch<=2.2.0,>=1.9.0->sage==1.1.0) (3.4.2)\n",
            "Requirement already satisfied: jinja2 in /usr/local/lib/python3.10/dist-packages (from torch<=2.2.0,>=1.9.0->sage==1.1.0) (3.1.4)\n",
            "Requirement already satisfied: fsspec in /usr/local/lib/python3.10/dist-packages (from torch<=2.2.0,>=1.9.0->sage==1.1.0) (2024.9.0)\n",
            "Requirement already satisfied: nvidia-cuda-nvrtc-cu12==12.1.105 in /usr/local/lib/python3.10/dist-packages (from torch<=2.2.0,>=1.9.0->sage==1.1.0) (12.1.105)\n",
            "Requirement already satisfied: nvidia-cuda-runtime-cu12==12.1.105 in /usr/local/lib/python3.10/dist-packages (from torch<=2.2.0,>=1.9.0->sage==1.1.0) (12.1.105)\n",
            "Requirement already satisfied: nvidia-cuda-cupti-cu12==12.1.105 in /usr/local/lib/python3.10/dist-packages (from torch<=2.2.0,>=1.9.0->sage==1.1.0) (12.1.105)\n",
            "Requirement already satisfied: nvidia-cudnn-cu12==8.9.2.26 in /usr/local/lib/python3.10/dist-packages (from torch<=2.2.0,>=1.9.0->sage==1.1.0) (8.9.2.26)\n",
            "Requirement already satisfied: nvidia-cublas-cu12==12.1.3.1 in /usr/local/lib/python3.10/dist-packages (from torch<=2.2.0,>=1.9.0->sage==1.1.0) (12.1.3.1)\n",
            "Requirement already satisfied: nvidia-cufft-cu12==11.0.2.54 in /usr/local/lib/python3.10/dist-packages (from torch<=2.2.0,>=1.9.0->sage==1.1.0) (11.0.2.54)\n",
            "Requirement already satisfied: nvidia-curand-cu12==10.3.2.106 in /usr/local/lib/python3.10/dist-packages (from torch<=2.2.0,>=1.9.0->sage==1.1.0) (10.3.2.106)\n",
            "Requirement already satisfied: nvidia-cusolver-cu12==11.4.5.107 in /usr/local/lib/python3.10/dist-packages (from torch<=2.2.0,>=1.9.0->sage==1.1.0) (11.4.5.107)\n",
            "Requirement already satisfied: nvidia-cusparse-cu12==12.1.0.106 in /usr/local/lib/python3.10/dist-packages (from torch<=2.2.0,>=1.9.0->sage==1.1.0) (12.1.0.106)\n",
            "Requirement already satisfied: nvidia-nccl-cu12==2.19.3 in /usr/local/lib/python3.10/dist-packages (from torch<=2.2.0,>=1.9.0->sage==1.1.0) (2.19.3)\n",
            "Requirement already satisfied: nvidia-nvtx-cu12==12.1.105 in /usr/local/lib/python3.10/dist-packages (from torch<=2.2.0,>=1.9.0->sage==1.1.0) (12.1.105)\n",
            "Requirement already satisfied: triton==2.2.0 in /usr/local/lib/python3.10/dist-packages (from torch<=2.2.0,>=1.9.0->sage==1.1.0) (2.2.0)\n",
            "Requirement already satisfied: nvidia-nvjitlink-cu12 in /usr/local/lib/python3.10/dist-packages (from nvidia-cusolver-cu12==11.4.5.107->torch<=2.2.0,>=1.9.0->sage==1.1.0) (12.6.77)\n",
            "Requirement already satisfied: huggingface-hub<1.0,>=0.23.2 in /usr/local/lib/python3.10/dist-packages (from transformers>=4.20.0->sage==1.1.0) (0.24.7)\n",
            "Requirement already satisfied: regex!=2019.12.17 in /usr/local/lib/python3.10/dist-packages (from transformers>=4.20.0->sage==1.1.0) (2024.9.11)\n",
            "Requirement already satisfied: safetensors>=0.4.1 in /usr/local/lib/python3.10/dist-packages (from transformers>=4.20.0->sage==1.1.0) (0.4.5)\n",
            "Requirement already satisfied: tokenizers<0.20,>=0.19 in /usr/local/lib/python3.10/dist-packages (from transformers>=4.20.0->sage==1.1.0) (0.19.1)\n",
            "Requirement already satisfied: pyarrow>=15.0.0 in /usr/local/lib/python3.10/dist-packages (from datasets->sage==1.1.0) (17.0.0)\n",
            "Requirement already satisfied: dill<0.3.9,>=0.3.0 in /usr/local/lib/python3.10/dist-packages (from datasets->sage==1.1.0) (0.3.8)\n",
            "Requirement already satisfied: xxhash in /usr/local/lib/python3.10/dist-packages (from datasets->sage==1.1.0) (3.5.0)\n",
            "Requirement already satisfied: multiprocess<0.70.17 in /usr/local/lib/python3.10/dist-packages (from datasets->sage==1.1.0) (0.70.16)\n",
            "Requirement already satisfied: aiohttp in /usr/local/lib/python3.10/dist-packages (from datasets->sage==1.1.0) (3.10.10)\n",
            "Requirement already satisfied: charset-normalizer<4,>=2 in /usr/local/lib/python3.10/dist-packages (from requests->sage==1.1.0) (3.4.0)\n",
            "Requirement already satisfied: idna<4,>=2.5 in /usr/local/lib/python3.10/dist-packages (from requests->sage==1.1.0) (3.10)\n",
            "Requirement already satisfied: urllib3<3,>=1.21.1 in /usr/local/lib/python3.10/dist-packages (from requests->sage==1.1.0) (2.2.3)\n",
            "Requirement already satisfied: certifi>=2017.4.17 in /usr/local/lib/python3.10/dist-packages (from requests->sage==1.1.0) (2024.8.30)\n",
            "Collecting rapidfuzz<4.0.0,>=3.9.0 (from Levenshtein->sage==1.1.0)\n",
            "  Downloading rapidfuzz-3.10.1-cp310-cp310-manylinux_2_17_x86_64.manylinux2014_x86_64.whl.metadata (11 kB)\n",
            "Requirement already satisfied: pytz>=2020.1 in /usr/local/lib/python3.10/dist-packages (from pandas->sage==1.1.0) (2024.2)\n",
            "Requirement already satisfied: tzdata>=2022.7 in /usr/local/lib/python3.10/dist-packages (from pandas->sage==1.1.0) (2024.2)\n",
            "Requirement already satisfied: spacy<3.8.0,>=3.7.0 in /usr/local/lib/python3.10/dist-packages (from ru-core-news-lg@ https://huggingface.co/spacy/ru_core_news_lg/resolve/main/ru_core_news_lg-any-py3-none-any.whl->sage==1.1.0) (3.7.5)\n",
            "Collecting pymorphy3>=1.0.0 (from ru-core-news-lg@ https://huggingface.co/spacy/ru_core_news_lg/resolve/main/ru_core_news_lg-any-py3-none-any.whl->sage==1.1.0)\n",
            "  Downloading pymorphy3-2.0.2-py3-none-any.whl.metadata (1.8 kB)\n",
            "Requirement already satisfied: aiohappyeyeballs>=2.3.0 in /usr/local/lib/python3.10/dist-packages (from aiohttp->datasets->sage==1.1.0) (2.4.3)\n",
            "Requirement already satisfied: aiosignal>=1.1.2 in /usr/local/lib/python3.10/dist-packages (from aiohttp->datasets->sage==1.1.0) (1.3.1)\n",
            "Requirement already satisfied: attrs>=17.3.0 in /usr/local/lib/python3.10/dist-packages (from aiohttp->datasets->sage==1.1.0) (24.2.0)\n",
            "Requirement already satisfied: frozenlist>=1.1.1 in /usr/local/lib/python3.10/dist-packages (from aiohttp->datasets->sage==1.1.0) (1.5.0)\n",
            "Requirement already satisfied: multidict<7.0,>=4.5 in /usr/local/lib/python3.10/dist-packages (from aiohttp->datasets->sage==1.1.0) (6.1.0)\n",
            "Requirement already satisfied: yarl<2.0,>=1.12.0 in /usr/local/lib/python3.10/dist-packages (from aiohttp->datasets->sage==1.1.0) (1.17.0)\n",
            "Requirement already satisfied: async-timeout<5.0,>=4.0 in /usr/local/lib/python3.10/dist-packages (from aiohttp->datasets->sage==1.1.0) (4.0.3)\n",
            "Collecting dawg-python>=0.7.1 (from pymorphy3>=1.0.0->ru-core-news-lg@ https://huggingface.co/spacy/ru_core_news_lg/resolve/main/ru_core_news_lg-any-py3-none-any.whl->sage==1.1.0)\n",
            "  Downloading DAWG_Python-0.7.2-py2.py3-none-any.whl.metadata (7.0 kB)\n",
            "Collecting pymorphy3-dicts-ru (from pymorphy3>=1.0.0->ru-core-news-lg@ https://huggingface.co/spacy/ru_core_news_lg/resolve/main/ru_core_news_lg-any-py3-none-any.whl->sage==1.1.0)\n",
            "  Downloading pymorphy3_dicts_ru-2.4.417150.4580142-py2.py3-none-any.whl.metadata (2.0 kB)\n",
            "Requirement already satisfied: six>=1.5 in /usr/local/lib/python3.10/dist-packages (from python-dateutil>=2.7->matplotlib<3.7,>=3.2->sage==1.1.0) (1.16.0)\n",
            "Requirement already satisfied: spacy-legacy<3.1.0,>=3.0.11 in /usr/local/lib/python3.10/dist-packages (from spacy<3.8.0,>=3.7.0->ru-core-news-lg@ https://huggingface.co/spacy/ru_core_news_lg/resolve/main/ru_core_news_lg-any-py3-none-any.whl->sage==1.1.0) (3.0.12)\n",
            "Requirement already satisfied: spacy-loggers<2.0.0,>=1.0.0 in /usr/local/lib/python3.10/dist-packages (from spacy<3.8.0,>=3.7.0->ru-core-news-lg@ https://huggingface.co/spacy/ru_core_news_lg/resolve/main/ru_core_news_lg-any-py3-none-any.whl->sage==1.1.0) (1.0.5)\n",
            "Requirement already satisfied: murmurhash<1.1.0,>=0.28.0 in /usr/local/lib/python3.10/dist-packages (from spacy<3.8.0,>=3.7.0->ru-core-news-lg@ https://huggingface.co/spacy/ru_core_news_lg/resolve/main/ru_core_news_lg-any-py3-none-any.whl->sage==1.1.0) (1.0.10)\n",
            "Requirement already satisfied: cymem<2.1.0,>=2.0.2 in /usr/local/lib/python3.10/dist-packages (from spacy<3.8.0,>=3.7.0->ru-core-news-lg@ https://huggingface.co/spacy/ru_core_news_lg/resolve/main/ru_core_news_lg-any-py3-none-any.whl->sage==1.1.0) (2.0.8)\n",
            "Requirement already satisfied: preshed<3.1.0,>=3.0.2 in /usr/local/lib/python3.10/dist-packages (from spacy<3.8.0,>=3.7.0->ru-core-news-lg@ https://huggingface.co/spacy/ru_core_news_lg/resolve/main/ru_core_news_lg-any-py3-none-any.whl->sage==1.1.0) (3.0.9)\n",
            "Requirement already satisfied: thinc<8.3.0,>=8.2.2 in /usr/local/lib/python3.10/dist-packages (from spacy<3.8.0,>=3.7.0->ru-core-news-lg@ https://huggingface.co/spacy/ru_core_news_lg/resolve/main/ru_core_news_lg-any-py3-none-any.whl->sage==1.1.0) (8.2.5)\n",
            "Requirement already satisfied: wasabi<1.2.0,>=0.9.1 in /usr/local/lib/python3.10/dist-packages (from spacy<3.8.0,>=3.7.0->ru-core-news-lg@ https://huggingface.co/spacy/ru_core_news_lg/resolve/main/ru_core_news_lg-any-py3-none-any.whl->sage==1.1.0) (1.1.3)\n",
            "Requirement already satisfied: srsly<3.0.0,>=2.4.3 in /usr/local/lib/python3.10/dist-packages (from spacy<3.8.0,>=3.7.0->ru-core-news-lg@ https://huggingface.co/spacy/ru_core_news_lg/resolve/main/ru_core_news_lg-any-py3-none-any.whl->sage==1.1.0) (2.4.8)\n",
            "Requirement already satisfied: catalogue<2.1.0,>=2.0.6 in /usr/local/lib/python3.10/dist-packages (from spacy<3.8.0,>=3.7.0->ru-core-news-lg@ https://huggingface.co/spacy/ru_core_news_lg/resolve/main/ru_core_news_lg-any-py3-none-any.whl->sage==1.1.0) (2.0.10)\n",
            "Requirement already satisfied: weasel<0.5.0,>=0.1.0 in /usr/local/lib/python3.10/dist-packages (from spacy<3.8.0,>=3.7.0->ru-core-news-lg@ https://huggingface.co/spacy/ru_core_news_lg/resolve/main/ru_core_news_lg-any-py3-none-any.whl->sage==1.1.0) (0.4.1)\n",
            "Requirement already satisfied: typer<1.0.0,>=0.3.0 in /usr/local/lib/python3.10/dist-packages (from spacy<3.8.0,>=3.7.0->ru-core-news-lg@ https://huggingface.co/spacy/ru_core_news_lg/resolve/main/ru_core_news_lg-any-py3-none-any.whl->sage==1.1.0) (0.12.5)\n",
            "Requirement already satisfied: pydantic!=1.8,!=1.8.1,<3.0.0,>=1.7.4 in /usr/local/lib/python3.10/dist-packages (from spacy<3.8.0,>=3.7.0->ru-core-news-lg@ https://huggingface.co/spacy/ru_core_news_lg/resolve/main/ru_core_news_lg-any-py3-none-any.whl->sage==1.1.0) (2.9.2)\n",
            "Requirement already satisfied: setuptools in /usr/local/lib/python3.10/dist-packages (from spacy<3.8.0,>=3.7.0->ru-core-news-lg@ https://huggingface.co/spacy/ru_core_news_lg/resolve/main/ru_core_news_lg-any-py3-none-any.whl->sage==1.1.0) (75.1.0)\n",
            "Requirement already satisfied: langcodes<4.0.0,>=3.2.0 in /usr/local/lib/python3.10/dist-packages (from spacy<3.8.0,>=3.7.0->ru-core-news-lg@ https://huggingface.co/spacy/ru_core_news_lg/resolve/main/ru_core_news_lg-any-py3-none-any.whl->sage==1.1.0) (3.4.1)\n",
            "Requirement already satisfied: MarkupSafe>=2.0 in /usr/local/lib/python3.10/dist-packages (from jinja2->torch<=2.2.0,>=1.9.0->sage==1.1.0) (3.0.2)\n",
            "Requirement already satisfied: mpmath<1.4,>=1.1.0 in /usr/local/lib/python3.10/dist-packages (from sympy->torch<=2.2.0,>=1.9.0->sage==1.1.0) (1.3.0)\n",
            "Requirement already satisfied: language-data>=1.2 in /usr/local/lib/python3.10/dist-packages (from langcodes<4.0.0,>=3.2.0->spacy<3.8.0,>=3.7.0->ru-core-news-lg@ https://huggingface.co/spacy/ru_core_news_lg/resolve/main/ru_core_news_lg-any-py3-none-any.whl->sage==1.1.0) (1.2.0)\n",
            "Requirement already satisfied: annotated-types>=0.6.0 in /usr/local/lib/python3.10/dist-packages (from pydantic!=1.8,!=1.8.1,<3.0.0,>=1.7.4->spacy<3.8.0,>=3.7.0->ru-core-news-lg@ https://huggingface.co/spacy/ru_core_news_lg/resolve/main/ru_core_news_lg-any-py3-none-any.whl->sage==1.1.0) (0.7.0)\n",
            "Requirement already satisfied: pydantic-core==2.23.4 in /usr/local/lib/python3.10/dist-packages (from pydantic!=1.8,!=1.8.1,<3.0.0,>=1.7.4->spacy<3.8.0,>=3.7.0->ru-core-news-lg@ https://huggingface.co/spacy/ru_core_news_lg/resolve/main/ru_core_news_lg-any-py3-none-any.whl->sage==1.1.0) (2.23.4)\n",
            "Requirement already satisfied: blis<0.8.0,>=0.7.8 in /usr/local/lib/python3.10/dist-packages (from thinc<8.3.0,>=8.2.2->spacy<3.8.0,>=3.7.0->ru-core-news-lg@ https://huggingface.co/spacy/ru_core_news_lg/resolve/main/ru_core_news_lg-any-py3-none-any.whl->sage==1.1.0) (0.7.11)\n",
            "Requirement already satisfied: confection<1.0.0,>=0.0.1 in /usr/local/lib/python3.10/dist-packages (from thinc<8.3.0,>=8.2.2->spacy<3.8.0,>=3.7.0->ru-core-news-lg@ https://huggingface.co/spacy/ru_core_news_lg/resolve/main/ru_core_news_lg-any-py3-none-any.whl->sage==1.1.0) (0.1.5)\n",
            "Requirement already satisfied: click>=8.0.0 in /usr/local/lib/python3.10/dist-packages (from typer<1.0.0,>=0.3.0->spacy<3.8.0,>=3.7.0->ru-core-news-lg@ https://huggingface.co/spacy/ru_core_news_lg/resolve/main/ru_core_news_lg-any-py3-none-any.whl->sage==1.1.0) (8.1.7)\n",
            "Requirement already satisfied: shellingham>=1.3.0 in /usr/local/lib/python3.10/dist-packages (from typer<1.0.0,>=0.3.0->spacy<3.8.0,>=3.7.0->ru-core-news-lg@ https://huggingface.co/spacy/ru_core_news_lg/resolve/main/ru_core_news_lg-any-py3-none-any.whl->sage==1.1.0) (1.5.4)\n",
            "Requirement already satisfied: rich>=10.11.0 in /usr/local/lib/python3.10/dist-packages (from typer<1.0.0,>=0.3.0->spacy<3.8.0,>=3.7.0->ru-core-news-lg@ https://huggingface.co/spacy/ru_core_news_lg/resolve/main/ru_core_news_lg-any-py3-none-any.whl->sage==1.1.0) (13.9.3)\n",
            "Requirement already satisfied: cloudpathlib<1.0.0,>=0.7.0 in /usr/local/lib/python3.10/dist-packages (from weasel<0.5.0,>=0.1.0->spacy<3.8.0,>=3.7.0->ru-core-news-lg@ https://huggingface.co/spacy/ru_core_news_lg/resolve/main/ru_core_news_lg-any-py3-none-any.whl->sage==1.1.0) (0.20.0)\n",
            "Requirement already satisfied: smart-open<8.0.0,>=5.2.1 in /usr/local/lib/python3.10/dist-packages (from weasel<0.5.0,>=0.1.0->spacy<3.8.0,>=3.7.0->ru-core-news-lg@ https://huggingface.co/spacy/ru_core_news_lg/resolve/main/ru_core_news_lg-any-py3-none-any.whl->sage==1.1.0) (7.0.5)\n",
            "Requirement already satisfied: propcache>=0.2.0 in /usr/local/lib/python3.10/dist-packages (from yarl<2.0,>=1.12.0->aiohttp->datasets->sage==1.1.0) (0.2.0)\n",
            "Requirement already satisfied: marisa-trie>=0.7.7 in /usr/local/lib/python3.10/dist-packages (from language-data>=1.2->langcodes<4.0.0,>=3.2.0->spacy<3.8.0,>=3.7.0->ru-core-news-lg@ https://huggingface.co/spacy/ru_core_news_lg/resolve/main/ru_core_news_lg-any-py3-none-any.whl->sage==1.1.0) (1.2.1)\n",
            "Requirement already satisfied: markdown-it-py>=2.2.0 in /usr/local/lib/python3.10/dist-packages (from rich>=10.11.0->typer<1.0.0,>=0.3.0->spacy<3.8.0,>=3.7.0->ru-core-news-lg@ https://huggingface.co/spacy/ru_core_news_lg/resolve/main/ru_core_news_lg-any-py3-none-any.whl->sage==1.1.0) (3.0.0)\n",
            "Requirement already satisfied: pygments<3.0.0,>=2.13.0 in /usr/local/lib/python3.10/dist-packages (from rich>=10.11.0->typer<1.0.0,>=0.3.0->spacy<3.8.0,>=3.7.0->ru-core-news-lg@ https://huggingface.co/spacy/ru_core_news_lg/resolve/main/ru_core_news_lg-any-py3-none-any.whl->sage==1.1.0) (2.18.0)\n",
            "Requirement already satisfied: wrapt in /usr/local/lib/python3.10/dist-packages (from smart-open<8.0.0,>=5.2.1->weasel<0.5.0,>=0.1.0->spacy<3.8.0,>=3.7.0->ru-core-news-lg@ https://huggingface.co/spacy/ru_core_news_lg/resolve/main/ru_core_news_lg-any-py3-none-any.whl->sage==1.1.0) (1.16.0)\n",
            "Requirement already satisfied: mdurl~=0.1 in /usr/local/lib/python3.10/dist-packages (from markdown-it-py>=2.2.0->rich>=10.11.0->typer<1.0.0,>=0.3.0->spacy<3.8.0,>=3.7.0->ru-core-news-lg@ https://huggingface.co/spacy/ru_core_news_lg/resolve/main/ru_core_news_lg-any-py3-none-any.whl->sage==1.1.0) (0.1.2)\n",
            "augmentex is already installed with the same version as the provided wheel. Use --force-reinstall to force an installation of the wheel.\n",
            "Downloading levenshtein-0.26.1-cp310-cp310-manylinux_2_17_x86_64.manylinux2014_x86_64.whl (162 kB)\n",
            "\u001b[2K   \u001b[90m━━━━━━━━━━━━━━━━━━━━━━━━━━━━━━━━━━━━━━━━\u001b[0m \u001b[32m162.6/162.6 kB\u001b[0m \u001b[31m3.1 MB/s\u001b[0m eta \u001b[36m0:00:00\u001b[0m\n",
            "\u001b[?25hDownloading pymorphy3-2.0.2-py3-none-any.whl (53 kB)\n",
            "\u001b[2K   \u001b[90m━━━━━━━━━━━━━━━━━━━━━━━━━━━━━━━━━━━━━━━━\u001b[0m \u001b[32m53.8/53.8 kB\u001b[0m \u001b[31m3.7 MB/s\u001b[0m eta \u001b[36m0:00:00\u001b[0m\n",
            "\u001b[?25hDownloading rapidfuzz-3.10.1-cp310-cp310-manylinux_2_17_x86_64.manylinux2014_x86_64.whl (3.1 MB)\n",
            "\u001b[2K   \u001b[90m━━━━━━━━━━━━━━━━━━━━━━━━━━━━━━━━━━━━━━━━\u001b[0m \u001b[32m3.1/3.1 MB\u001b[0m \u001b[31m27.3 MB/s\u001b[0m eta \u001b[36m0:00:00\u001b[0m\n",
            "\u001b[?25hDownloading DAWG_Python-0.7.2-py2.py3-none-any.whl (11 kB)\n",
            "Downloading pymorphy3_dicts_ru-2.4.417150.4580142-py2.py3-none-any.whl (8.4 MB)\n",
            "\u001b[2K   \u001b[90m━━━━━━━━━━━━━━━━━━━━━━━━━━━━━━━━━━━━━━━━\u001b[0m \u001b[32m8.4/8.4 MB\u001b[0m \u001b[31m77.7 MB/s\u001b[0m eta \u001b[36m0:00:00\u001b[0m\n",
            "\u001b[?25hBuilding wheels for collected packages: errant\n",
            "  Building wheel for errant (setup.py) ... \u001b[?25l\u001b[?25hdone\n",
            "  Created wheel for errant: filename=errant-2.3.0-py3-none-any.whl size=505803 sha256=6d005aa928555db45e8f270092ae9c77ac6435f356e1bb4ea1450d72961e4d3b\n",
            "  Stored in directory: /tmp/pip-ephem-wheel-cache-u5u85bkk/wheels/a8/1c/81/98ee52a0f39d8adc52ebca7d52b867b91b85db236b580bad78\n",
            "Successfully built errant\n",
            "Installing collected packages: pymorphy3-dicts-ru, dawg-python, rapidfuzz, pymorphy3, errant, Levenshtein, sage, ru-core-news-lg\n",
            "  Attempting uninstall: sage\n",
            "    Found existing installation: sage 1.1.0\n",
            "    Uninstalling sage-1.1.0:\n",
            "      Successfully uninstalled sage-1.1.0\n",
            "  Running setup.py develop for sage\n",
            "Successfully installed Levenshtein-0.26.1 dawg-python-0.7.2 errant-2.3.0 pymorphy3-2.0.2 pymorphy3-dicts-ru-2.4.417150.4580142 rapidfuzz-3.10.1 ru-core-news-lg-3.7.0 sage-1.1.0\n"
          ]
        }
      ]
    },
    {
      "cell_type": "code",
      "execution_count": null,
      "metadata": {
        "colab": {
          "base_uri": "https://localhost:8080/"
        },
        "id": "2tCoCm_Yz1Zr",
        "outputId": "fbc8e8aa-deae-4bee-a32e-1b5c447b542c"
      },
      "outputs": [
        {
          "output_type": "stream",
          "name": "stderr",
          "text": [
            "[nltk_data] Downloading package stopwords to /root/nltk_data...\n",
            "[nltk_data]   Package stopwords is already up-to-date!\n"
          ]
        }
      ],
      "source": [
        "import json\n",
        "import re\n",
        "from collections import Counter\n",
        "\n",
        "from nltk.corpus import stopwords\n",
        "import nltk\n",
        "from nltk.util import ngrams\n",
        "from nltk.metrics import edit_distance\n",
        "from spellchecker import SpellChecker\n",
        "\n",
        "from langchain import HuggingFaceHub, LLMChain, PromptTemplate\n",
        "\n",
        "from transformers import T5Tokenizer, T5ForConditionalGeneration, AutoTokenizer, AutoModelForSeq2SeqLM,LogitsProcessor\n",
        "from llama_cpp import Llama\n",
        "\n",
        "import os\n",
        "import torch\n",
        "from sage.spelling_correction import T5ModelForSpellingCorruption, RuM2M100ModelForSpellingCorrection, AvailableCorrectors\n",
        "\n",
        "nltk.download('stopwords')\n",
        "# Загрузка стоп-слов для русского языка\n",
        "stop_words = set(stopwords.words('russian'))"
      ]
    },
    {
      "cell_type": "code",
      "source": [
        "stop_words = set(stopwords.words('russian'))"
      ],
      "metadata": {
        "id": "TQzF5qtVMoew"
      },
      "execution_count": null,
      "outputs": []
    },
    {
      "cell_type": "code",
      "source": [
        "stop_words.remove('не')"
      ],
      "metadata": {
        "id": "zr1Fu5TELwIW"
      },
      "execution_count": null,
      "outputs": []
    },
    {
      "cell_type": "markdown",
      "source": [
        "### 1.2 Загрузка исходных файлов"
      ],
      "metadata": {
        "id": "yzeJseRZBGDs"
      }
    },
    {
      "cell_type": "code",
      "source": [
        "%cd .."
      ],
      "metadata": {
        "colab": {
          "base_uri": "https://localhost:8080/"
        },
        "id": "Gs96c8kFlMyL",
        "outputId": "29eb146a-c9ed-4298-9b66-3d1629978241"
      },
      "execution_count": null,
      "outputs": [
        {
          "output_type": "stream",
          "name": "stdout",
          "text": [
            "/content\n"
          ]
        }
      ]
    },
    {
      "cell_type": "code",
      "source": [
        "file_path_quotes = 'cintra_phoenix_oils_hr_mgck_feather.json'\n",
        "\n",
        "with open(file_path_quotes, 'r', encoding='utf-8') as f:\n",
        "  data = json.load(f)\n",
        "\n",
        "quotes = []\n",
        "for quote in data:\n",
        "  quotes.append(quote['quote'])"
      ],
      "metadata": {
        "id": "bYs8pTY80UCr"
      },
      "execution_count": null,
      "outputs": []
    },
    {
      "cell_type": "code",
      "source": [
        "file_path_abbrev = 'abbreviations.txt'\n",
        "abbrev_text = open(file_path_abbrev).read().split('\\n')\n",
        "\n",
        "abbreviations = {}\n",
        "for abb in abbrev_text[:len(abbrev_text)-1]:\n",
        "  abbrev = abb.split(' - ')\n",
        "  abbreviations[abbrev[0].lower()] = abbrev[1].lower()"
      ],
      "metadata": {
        "id": "cd_8lXE98zZW"
      },
      "execution_count": null,
      "outputs": []
    },
    {
      "cell_type": "code",
      "source": [
        "tokenizer = AutoTokenizer.from_pretrained(\"ai-forever/RuM2M100-418M\")\n",
        "corrector = AutoModelForSeq2SeqLM.from_pretrained(\"ai-forever/RuM2M100-418M\")\n",
        "\n",
        "device = torch.device('cuda' if torch.cuda.is_available() else 'cpu')\n",
        "corrector.model.to(device)"
      ],
      "metadata": {
        "colab": {
          "base_uri": "https://localhost:8080/",
          "height": 1000,
          "referenced_widgets": [
            "c1d9b5c4ba174d4aa6513674d5319331",
            "fbbc09c4cd5d4b51b48407716330e800",
            "9f358ae284ff48be8303d03608168c20",
            "3c5871ad0a8f4c92b5c7d233ff87571f",
            "64ce288bcbc9414a8bf15560305ed893",
            "8ac8947df2fe4a25a7638b9fc95f6ed4",
            "fe1def1040b04ab2bbfe907e396b7410",
            "097ebf749d2544b09a73dec3c75ef5ef",
            "6dc30461eb794349b5becb2442b3a4c0",
            "a1357ee52ea24973a2c5239f75af65f3",
            "6ac264040db34631a9c583c5f6a16f3e",
            "0520fd1460644b529ed5ef4bbc67c885",
            "02d12611c70f4758944c934dc64fd228",
            "3a07ca30f5824adb810c7965d18a5e92",
            "fc0d86511194418da7544eb03e17d650",
            "ce729ffeb5dc45cd86fc487f60a2fb49",
            "32068e43c1fe40679793948d0b6a5a68",
            "778f43a476094081a72ba1beaaa8d7b0",
            "623779516c2e441f982476c9b66c6eaa",
            "9b02bf1ac57b4339bedbd8e6163da33c",
            "feceb820c0044d7a909672d700313232",
            "abc6643e4b1747fdb309f77d831cbd43",
            "cdce003ce88d458fa196737f82c84876",
            "66999be58da54b9592993c8072027510",
            "c8990946e162429eb0d97aea8841fac2",
            "a85521fb35464cf0979e21fe6ce8ce42",
            "f145d55768ad460aa99a5f6d5df7df08",
            "ff98ae749c644f63a48e8c0ae7b66a35",
            "7adc9c531cda43aa9936255a1ea8823d",
            "ac5e92e504cd459aa4cbbebc2f95b970",
            "7be6eb2582a74dea8ef0c25d926d6b9c",
            "0069e20c667247c6bab662476a52157c",
            "11204bd7c239403b87895a3105c4d730",
            "ac2d9ab49f864ffaab5e277a0da7339a",
            "e650026244a14417b4581d71b9e26b32",
            "bbdc5302a7a34694bdc05a7a0328ed01",
            "4946401b60e64aa0a9e728c077fb9d78",
            "cc8838927b774d2eb8d108711b09e40c",
            "e52669085f424886be6a3bec9f6285ba",
            "fbf0bd187f4a48059c55fc21ec9c0a27",
            "f9d14847fd4e40a89faed629b2f3d68d",
            "d4a6c7edb61d4938a1f194ed258ef322",
            "a99252f5158d40dfb5c58ef76451b03c",
            "208902c9393540519d60d352325b0206",
            "20e677bbd4724885b0a580b9cd1a8768",
            "a8c10fcc5e9f456687ab215ea438fd05",
            "6e26ef2ecc714def9b39b3403b2601cc",
            "f75bd0b70e5643838094e1ba9b00d00d",
            "947d1094cf7a494b82d876fb49d52b6c",
            "bc385f7b100a47f492b9680653773ba7",
            "4a178a973dba43078dcf7a27e05efe73",
            "ece3200b86f24a99a63835cc6a5a658c",
            "05612c2eb4d540ea96a7ed9793a007bf",
            "af516c7f7630413caa68bce3d08546d4",
            "a0a40b8e21b34692bec8c20b3b046c9a",
            "aef3473818f943d290f2be9589e0b438",
            "ba6c970fe1b140f99034cd060c3191a6",
            "182d9e2a7e1f48ebb5e00cce27891ce8",
            "7fc91db2fe58437d970b285546c7d855",
            "ce153979f919492a8ee5435f5439f381",
            "d9bd5b26fcd14bfa955ce5f787254bc8",
            "07793df3073a42d6acfbffb927195e7e",
            "7cff3d3d5e1e4d4391ae23254580e066",
            "a7101ab2fed2446cba5410c63bae2cd0",
            "fddbff0163164d8dbeb354146819199e",
            "edd5cbeeef9146a682e088d0f2a138ac"
          ]
        },
        "id": "jD7dNHS0vhXF",
        "outputId": "b504c4bc-10c5-4a1d-e10d-7a026cec02eb"
      },
      "execution_count": null,
      "outputs": [
        {
          "output_type": "display_data",
          "data": {
            "text/plain": [
              "tokenizer_config.json:   0%|          | 0.00/1.74k [00:00<?, ?B/s]"
            ],
            "application/vnd.jupyter.widget-view+json": {
              "version_major": 2,
              "version_minor": 0,
              "model_id": "c1d9b5c4ba174d4aa6513674d5319331"
            }
          },
          "metadata": {}
        },
        {
          "output_type": "display_data",
          "data": {
            "text/plain": [
              "vocab.json:   0%|          | 0.00/465k [00:00<?, ?B/s]"
            ],
            "application/vnd.jupyter.widget-view+json": {
              "version_major": 2,
              "version_minor": 0,
              "model_id": "0520fd1460644b529ed5ef4bbc67c885"
            }
          },
          "metadata": {}
        },
        {
          "output_type": "display_data",
          "data": {
            "text/plain": [
              "sentencepiece.bpe.model:   0%|          | 0.00/489k [00:00<?, ?B/s]"
            ],
            "application/vnd.jupyter.widget-view+json": {
              "version_major": 2,
              "version_minor": 0,
              "model_id": "cdce003ce88d458fa196737f82c84876"
            }
          },
          "metadata": {}
        },
        {
          "output_type": "display_data",
          "data": {
            "text/plain": [
              "special_tokens_map.json:   0%|          | 0.00/1.56k [00:00<?, ?B/s]"
            ],
            "application/vnd.jupyter.widget-view+json": {
              "version_major": 2,
              "version_minor": 0,
              "model_id": "ac2d9ab49f864ffaab5e277a0da7339a"
            }
          },
          "metadata": {}
        },
        {
          "output_type": "stream",
          "name": "stderr",
          "text": [
            "/usr/local/lib/python3.10/dist-packages/transformers/tokenization_utils_base.py:1601: FutureWarning: `clean_up_tokenization_spaces` was not set. It will be set to `True` by default. This behavior will be depracted in transformers v4.45, and will be then set to `False` by default. For more details check this issue: https://github.com/huggingface/transformers/issues/31884\n",
            "  warnings.warn(\n"
          ]
        },
        {
          "output_type": "display_data",
          "data": {
            "text/plain": [
              "config.json:   0%|          | 0.00/963 [00:00<?, ?B/s]"
            ],
            "application/vnd.jupyter.widget-view+json": {
              "version_major": 2,
              "version_minor": 0,
              "model_id": "20e677bbd4724885b0a580b9cd1a8768"
            }
          },
          "metadata": {}
        },
        {
          "output_type": "display_data",
          "data": {
            "text/plain": [
              "model.safetensors:   0%|          | 0.00/1.47G [00:00<?, ?B/s]"
            ],
            "application/vnd.jupyter.widget-view+json": {
              "version_major": 2,
              "version_minor": 0,
              "model_id": "aef3473818f943d290f2be9589e0b438"
            }
          },
          "metadata": {}
        },
        {
          "output_type": "execute_result",
          "data": {
            "text/plain": [
              "M2M100Model(\n",
              "  (shared): M2M100ScaledWordEmbedding(14341, 1024, padding_idx=1)\n",
              "  (encoder): M2M100Encoder(\n",
              "    (embed_tokens): M2M100ScaledWordEmbedding(14341, 1024, padding_idx=1)\n",
              "    (embed_positions): M2M100SinusoidalPositionalEmbedding()\n",
              "    (layers): ModuleList(\n",
              "      (0-11): 12 x M2M100EncoderLayer(\n",
              "        (self_attn): M2M100Attention(\n",
              "          (k_proj): Linear(in_features=1024, out_features=1024, bias=True)\n",
              "          (v_proj): Linear(in_features=1024, out_features=1024, bias=True)\n",
              "          (q_proj): Linear(in_features=1024, out_features=1024, bias=True)\n",
              "          (out_proj): Linear(in_features=1024, out_features=1024, bias=True)\n",
              "        )\n",
              "        (self_attn_layer_norm): LayerNorm((1024,), eps=1e-05, elementwise_affine=True)\n",
              "        (activation_fn): ReLU()\n",
              "        (fc1): Linear(in_features=1024, out_features=4096, bias=True)\n",
              "        (fc2): Linear(in_features=4096, out_features=1024, bias=True)\n",
              "        (final_layer_norm): LayerNorm((1024,), eps=1e-05, elementwise_affine=True)\n",
              "      )\n",
              "    )\n",
              "    (layer_norm): LayerNorm((1024,), eps=1e-05, elementwise_affine=True)\n",
              "  )\n",
              "  (decoder): M2M100Decoder(\n",
              "    (embed_tokens): M2M100ScaledWordEmbedding(14341, 1024, padding_idx=1)\n",
              "    (embed_positions): M2M100SinusoidalPositionalEmbedding()\n",
              "    (layers): ModuleList(\n",
              "      (0-11): 12 x M2M100DecoderLayer(\n",
              "        (self_attn): M2M100Attention(\n",
              "          (k_proj): Linear(in_features=1024, out_features=1024, bias=True)\n",
              "          (v_proj): Linear(in_features=1024, out_features=1024, bias=True)\n",
              "          (q_proj): Linear(in_features=1024, out_features=1024, bias=True)\n",
              "          (out_proj): Linear(in_features=1024, out_features=1024, bias=True)\n",
              "        )\n",
              "        (activation_fn): ReLU()\n",
              "        (self_attn_layer_norm): LayerNorm((1024,), eps=1e-05, elementwise_affine=True)\n",
              "        (encoder_attn): M2M100Attention(\n",
              "          (k_proj): Linear(in_features=1024, out_features=1024, bias=True)\n",
              "          (v_proj): Linear(in_features=1024, out_features=1024, bias=True)\n",
              "          (q_proj): Linear(in_features=1024, out_features=1024, bias=True)\n",
              "          (out_proj): Linear(in_features=1024, out_features=1024, bias=True)\n",
              "        )\n",
              "        (encoder_attn_layer_norm): LayerNorm((1024,), eps=1e-05, elementwise_affine=True)\n",
              "        (fc1): Linear(in_features=1024, out_features=4096, bias=True)\n",
              "        (fc2): Linear(in_features=4096, out_features=1024, bias=True)\n",
              "        (final_layer_norm): LayerNorm((1024,), eps=1e-05, elementwise_affine=True)\n",
              "      )\n",
              "    )\n",
              "    (layer_norm): LayerNorm((1024,), eps=1e-05, elementwise_affine=True)\n",
              "  )\n",
              ")"
            ]
          },
          "metadata": {},
          "execution_count": 16
        }
      ]
    },
    {
      "cell_type": "code",
      "source": [
        "protected_words = ['плантир']\n",
        "protected_ids = [tokenizer.convert_tokens_to_ids(word) for word in protected_words]"
      ],
      "metadata": {
        "id": "uhrcqQ5c9j8L"
      },
      "execution_count": null,
      "outputs": []
    },
    {
      "cell_type": "code",
      "source": [
        "# Собственный LogitsProcessor для защиты токенов\n",
        "class ForceTokensLogitsProcessor(LogitsProcessor):\n",
        "    def __init__(self, protected_token_ids, penalty=-1000.0):\n",
        "        super().__init__()\n",
        "        self.protected_token_ids = protected_token_ids\n",
        "        self.penalty = penalty  # сильный штраф для защищённых слов\n",
        "\n",
        "    def __call__(self, input_ids, scores):\n",
        "        # Применяем штраф к защищённым токенам\n",
        "        for token_id in self.protected_token_ids:\n",
        "            scores[:, token_id] += self.penalty\n",
        "        return scores\n",
        "\n",
        "def generate_fixed_from_samples(model, tokenizer, samples, device='cpu'):\n",
        "    model.eval()\n",
        "    model = model.to(device)\n",
        "\n",
        "    tokens = tokenizer(samples, padding=True, return_tensors='pt')\n",
        "    output = model.generate(tokens['input_ids'].to(device),\n",
        "                            do_sample=True, top_k=50, top_p=0.95,\n",
        "                            num_return_sequences=1,\n",
        "                            logits_processor=[ForceTokensLogitsProcessor(protected_ids, -1000)])\n",
        "    results = tokenizer.batch_decode(output.cpu(), skip_special_tokens=True)\n",
        "\n",
        "    return dict(zip(samples, results))"
      ],
      "metadata": {
        "id": "gn332EJmjs6j"
      },
      "execution_count": null,
      "outputs": []
    },
    {
      "cell_type": "code",
      "source": [
        "tokenizer = tokenizer\n",
        "model = corrector\n",
        "\n",
        "samples = list(results.values())\n",
        "results = dict()\n",
        "\n",
        "fixed_samples = generate_fixed_from_samples(model, tokenizer, samples, device=device)\n",
        "results = fixed_samples"
      ],
      "metadata": {
        "colab": {
          "base_uri": "https://localhost:8080/",
          "height": 349
        },
        "id": "vCEzN91zr6ao",
        "outputId": "7ec87ec6-ffd2-413f-bcc2-fd2cacb84475"
      },
      "execution_count": null,
      "outputs": [
        {
          "output_type": "error",
          "ename": "AttributeError",
          "evalue": "'T5ModelForSpellingCorruption' object has no attribute 'eval'",
          "traceback": [
            "\u001b[0;31m---------------------------------------------------------------------------\u001b[0m",
            "\u001b[0;31mAttributeError\u001b[0m                            Traceback (most recent call last)",
            "\u001b[0;32m<ipython-input-24-e6e32444070a>\u001b[0m in \u001b[0;36m<cell line: 7>\u001b[0;34m()\u001b[0m\n\u001b[1;32m      5\u001b[0m \u001b[0mresults\u001b[0m \u001b[0;34m=\u001b[0m \u001b[0mdict\u001b[0m\u001b[0;34m(\u001b[0m\u001b[0;34m)\u001b[0m\u001b[0;34m\u001b[0m\u001b[0;34m\u001b[0m\u001b[0m\n\u001b[1;32m      6\u001b[0m \u001b[0;34m\u001b[0m\u001b[0m\n\u001b[0;32m----> 7\u001b[0;31m \u001b[0mfixed_samples\u001b[0m \u001b[0;34m=\u001b[0m \u001b[0mgenerate_fixed_from_samples\u001b[0m\u001b[0;34m(\u001b[0m\u001b[0mmodel\u001b[0m\u001b[0;34m,\u001b[0m \u001b[0mtokenizer\u001b[0m\u001b[0;34m,\u001b[0m \u001b[0msamples\u001b[0m\u001b[0;34m,\u001b[0m \u001b[0mdevice\u001b[0m\u001b[0;34m=\u001b[0m\u001b[0mdevice\u001b[0m\u001b[0;34m)\u001b[0m\u001b[0;34m\u001b[0m\u001b[0;34m\u001b[0m\u001b[0m\n\u001b[0m\u001b[1;32m      8\u001b[0m \u001b[0mresults\u001b[0m \u001b[0;34m=\u001b[0m \u001b[0mfixed_samples\u001b[0m\u001b[0;34m\u001b[0m\u001b[0;34m\u001b[0m\u001b[0m\n",
            "\u001b[0;32m<ipython-input-22-26a214d28123>\u001b[0m in \u001b[0;36mgenerate_fixed_from_samples\u001b[0;34m(model, tokenizer, samples, device)\u001b[0m\n\u001b[1;32m      1\u001b[0m \u001b[0;32mdef\u001b[0m \u001b[0mgenerate_fixed_from_samples\u001b[0m\u001b[0;34m(\u001b[0m\u001b[0mmodel\u001b[0m\u001b[0;34m,\u001b[0m \u001b[0mtokenizer\u001b[0m\u001b[0;34m,\u001b[0m \u001b[0msamples\u001b[0m\u001b[0;34m,\u001b[0m \u001b[0mdevice\u001b[0m\u001b[0;34m=\u001b[0m\u001b[0;34m'cpu'\u001b[0m\u001b[0;34m)\u001b[0m\u001b[0;34m:\u001b[0m\u001b[0;34m\u001b[0m\u001b[0;34m\u001b[0m\u001b[0m\n\u001b[0;32m----> 2\u001b[0;31m     \u001b[0mmodel\u001b[0m\u001b[0;34m.\u001b[0m\u001b[0meval\u001b[0m\u001b[0;34m(\u001b[0m\u001b[0;34m)\u001b[0m\u001b[0;34m\u001b[0m\u001b[0;34m\u001b[0m\u001b[0m\n\u001b[0m\u001b[1;32m      3\u001b[0m     \u001b[0mmodel\u001b[0m \u001b[0;34m=\u001b[0m \u001b[0mmodel\u001b[0m\u001b[0;34m.\u001b[0m\u001b[0mto\u001b[0m\u001b[0;34m(\u001b[0m\u001b[0mdevice\u001b[0m\u001b[0;34m)\u001b[0m\u001b[0;34m\u001b[0m\u001b[0;34m\u001b[0m\u001b[0m\n\u001b[1;32m      4\u001b[0m \u001b[0;34m\u001b[0m\u001b[0m\n\u001b[1;32m      5\u001b[0m     \u001b[0mtokens\u001b[0m \u001b[0;34m=\u001b[0m \u001b[0mtokenizer\u001b[0m\u001b[0;34m(\u001b[0m\u001b[0msamples\u001b[0m\u001b[0;34m,\u001b[0m \u001b[0mpadding\u001b[0m\u001b[0;34m=\u001b[0m\u001b[0;32mTrue\u001b[0m\u001b[0;34m,\u001b[0m \u001b[0mreturn_tensors\u001b[0m\u001b[0;34m=\u001b[0m\u001b[0;34m'pt'\u001b[0m\u001b[0;34m)\u001b[0m\u001b[0;34m\u001b[0m\u001b[0;34m\u001b[0m\u001b[0m\n",
            "\u001b[0;31mAttributeError\u001b[0m: 'T5ModelForSpellingCorruption' object has no attribute 'eval'"
          ]
        }
      ]
    },
    {
      "cell_type": "code",
      "source": [
        "for original, result in zip(list(results.keys()), list(results.values())):\n",
        "    print(f\"'{original}'\")\n",
        "    print(f\"{result}'\")\n",
        "    print('-'*50)"
      ],
      "metadata": {
        "id": "8MlkrW5xr9Sp"
      },
      "execution_count": null,
      "outputs": []
    },
    {
      "cell_type": "code",
      "source": [
        "corrector = T5ModelForSpellingCorruption.from_pretrained(AvailableCorrectors.sage_fredt5_distilled_95m.value)\n",
        "\n",
        "device = torch.device('cuda' if torch.cuda.is_available() else 'cpu')\n",
        "corrector.model.to(device)\n",
        "\n",
        "results = dict()\n",
        "samples = quotes[0:20]\n",
        "model = corrector.model\n",
        "tokenizer = corrector.tokenizer\n",
        "\n",
        "fixed_samples = generate_fixed_from_samples(model, tokenizer, samples, device=device)\n",
        "results = fixed_samples\n",
        "\n",
        "for original, result in zip(list(results.keys()), list(results.values())):\n",
        "    print(f\"'{original}'\")\n",
        "    print(f\"{result}'\")\n",
        "    print('-'*50)"
      ],
      "metadata": {
        "colab": {
          "base_uri": "https://localhost:8080/"
        },
        "id": "i37-7ib83LIX",
        "outputId": "ccf82591-609a-4d50-f195-6a14cd37def2"
      },
      "execution_count": null,
      "outputs": [
        {
          "output_type": "stream",
          "name": "stdout",
          "text": [
            "'«У ннас среди ночi в райооне 55 часов упала полxа с водой в сттеклянной  таре, тоесть, посреди этой лужа, сстеккла, всёё, это уже поод утро, кстати, ээто не перрвыи раз,,, они сами по себе падают, как-то неправилььно рассчитывают, мы же должны выставлять по определённой картинке, у нас при мне было уже пару раз, чтоо сами по себе грохаются эти полки с буттылками» \n",
            "\n",
            "\n",
            "'\n",
            "\"У нас среди ночи в районе 55 часов упала полxа с водой в стеклянной таре, то есть посреди этой лужа стеккла. Всё, это уже под утро (кстати, это не первый раз). Они сами по себе падают, как-то неправильно рассчитывают, мы же должны выставлять по определённой картинке. У нас при мне было уже пару раз, что-то сами по себе грохаются эти полки с бутылками\".'\n",
            "--------------------------------------------------\n",
            "'Программы повышения квалификации через гильдию ЦМФ, хитрые, хитрые.  У всех, кто хочет повышаться, есть свои предпочтения и направления, а гильдия... гильдия толкает свое, не всегда то, что нужно сотрудникам.  В \"Белых Змеях\", например,  программы гибче,  и сотрудники сами выбирают, что им нужно. \n",
            "'\n",
            "Программы повышения квалификации через гильдию ЦМФ - хитрые, хитрые. У всех, кто хочет повышаться, есть свои предпочтения и направления, а гильдия - гильдия толкает свое, не всегда то, что нужно сотрудникам. В \"Белых Змеях\", например, программы гибче, и сотрудники сами выбирают, что им нужно.'\n",
            "--------------------------------------------------\n",
            "'\"Мурр... Новиград - город контрастов, да. Но в ЦМФ, как и в других ЗМС, люди превратились в котов, все заняты только собой. Никто не хочет протянуть лапку товарищу, помочь с грузом. Все в напряжении, в спешке. Мурр, раньше было лучше, когда работали втроем, а не порознь. \" \n",
            "'\n",
            "\"Мурр... Новиград - город контрастов, да. Но в ЦМФ, как и в других ЗМС, люди превратились в котов, все заняты только собой. Никто не хочет протянуть лапку товарищу, помочь с грузом. Все в напряжении, в спешке. Мурр, раньше было лучше, когда работали втроем, а не порознь\". '\n",
            "--------------------------------------------------\n",
            "'Типа, вот уже полгода, как мы ждем установки этих фильтров на маслобазе.  Думаю, если бы \"Бесконечные Огненные Огни\" не затягивали с поставками, то уже давно бы все было в порядке. \n",
            "'\n",
            "Типа, вот уже полгода, как мы ждём установки этих фильтров на маслобазе. Думаю, если бы \"Бесконечные Огненные Огни\" не затягивали с поставками, то уже давно бы всё было в порядке.'\n",
            "--------------------------------------------------\n",
            "'\"Теперь всьё так просто! Раньше бумажки летали, терялись, искать приходилось по всему Зеленосу. А теперь всё в одном месте, на плантирe.  Вся инфoрмaция под руkой, ничо не пропалaют.  Работать стало гораздо удобнее!\" \n",
            "'\n",
            "\"Теперь всё так просто! Раньше бумажки летали, терялись, искать приходилось по всему Зеленосу. А теперь всё в одном месте - на плантирe. Вся инфoрмaция под рукой, ничего не пропадaют. Работать стало гораздо удобнее!\"  '\n",
            "--------------------------------------------------\n",
            "'«— Расказыыывалии  лии  ввам, м0жет быть, рууководител или кто-то из коллег,  сс точкии зрення ЦМФ,,,, как можно развиваатся  далльшее, какие еессть пррограммыы для  сотруднниик0в?  — Нет, нее было» \n",
            "'\n",
            "\"Рассказывали ли вы вам, может быть, руководитель или кто-то из коллег, с точки зрения ЦМФ... Как можно развиваться дальше, какие есть программы для сотрудников? Нет, не было\".'\n",
            "--------------------------------------------------\n",
            "'Типа, раньше все масла ЦМФ были одинаковые, а теперь вот, разный спрос. В Новиграде, типа, богатые на \"Огненный дракон\" гоняются, а простые люди на \"Лесной дух\" - типа, подешевле.  Вот и приходится нам, лаборантам, все время новые рецепты выдумывать, чтоб всем угодить. \n",
            "'\n",
            "Типа, раньше все масла ЦМФ были одинаковые, а теперь вот разный спрос. В Новиграде, типа, богатые на \"огненный дракон\" гоняются, а простые люди на \"лесной дух\" - типа, подешевле. Вот и приходится нам, лаборантам, всё время новые рецепты выдумывать, чтоб всем угодить.'\n",
            "--------------------------------------------------\n",
            "'-С  Старшим технологом на маслoперерабатывающую станцию попасть - это как в \"Зачарованные Огненные Драконы\" попасть -с, говриот, там условия просто шикарные, а зарплата -с... Ну, в обшем, мечта любой лабораторной крысы -с.  \n",
            "'\n",
            "С старшим технологом на маслoперерабатывающую станцию попасть - это как в \"Зачарованные Огненные Драконы\" попасть? С, говорит, там условия просто шикарные, а зарплата - с... Ну, в общем, мечта любой лабораторной крысы - с.'\n",
            "--------------------------------------------------\n",
            "'Вот, знаете, раньше приходилось порой подолгу ждать, пока заправишся. А сейчас, с этoй предоплатой, всё так гладко!  Заезжаешь, оплачиваешь, и вперёд!  Никаких очередей, никаких задержек. Просто супер! \n",
            "'\n",
            "Вот знаете, раньше приходилось порой подолгу ждать, пока заправишься. А сейчас, с этoй предоплатой, всё так гладко! Заезжаешь, оплачиваешь, и вперёд! Никаких очередей, никаких задержек. Просто супер!  '\n",
            "--------------------------------------------------\n",
            "'Ну, вот, в Карбоне, например, всё норaльно. Вода чистая, прямо из крана. А вот в глубинке, где ЗМС открываються в новыx меcтах, бывает, приходится жdacь доставки.  Иногда, прав4а, бывает, что... э-э... что вода не такая чиcтая, как хоч4лось бы. Но, в обшему, всё терпимо. \n",
            "'\n",
            "Ну вот в Карбоне, например, всё нормaльно. Вода чистая, прямо из крана. А вот в глубинке, где ЗМС открываются в новыx меcтах, бывает, приходится жdacь доставки. Иногда, правда, бывает, что... э-э... что вода не такая чиcтая, как хотелось бы. Но, в общем, всё терпимо.'\n",
            "--------------------------------------------------\n",
            "'За частую уходят из-за зарaты, ко4урно. А ещё говoрят, что \"Кобольд\"  намн0 сильнее платтит. Но я тут привык, да и зачарованное масло, хоть и пахнет не самым приятным образом,  всё равно лучше, чем в \"Снежной Королеве\" - там вообще весь склад в пыли.  \n",
            "'\n",
            "За частую уходят из-за зарaты, кукуро. А ещё говoрят, что \"Кобольд\" нам 20 сильнее платит. Но я тут привык, да и зачарованное масло, хоть и пахнет не самым приятным образом, всё равно лучше, чем в \"Снежной Королеве\", там вообще весь склад в пыли. '\n",
            "--------------------------------------------------\n",
            "'\"Эти плантиры...  Все время что-то глючит.  Вместо того, чтобы быстро оформить, приходится стоять и ждать, пока он сам не решит, что все в порядке.  И бумага, как будто, не хочет туда заходить.  Быстрее было раньше, когда все руками делали.\"'\n",
            "\"Эти плантиры... Всё время что-то глючит. Вместо того чтобы быстро оформить, приходится стоять и ждать, пока он сам не решит, что всё в порядке. И бумага, как будто, не хочет туда заходить. Быстрее было раньше, когда все руками делали.\"'\n",
            "--------------------------------------------------\n",
            "'«У нас каждая смена, как маленькая семья. Естественно, все взрослые люди, все с разным темпераментом и характером, но чтобы они какие-то были критические, которые нужно было решать, вплоть до перехода из этой смены в другую, потому что не нашли общего языка, нет, у меня таких вопросов не было»'\n",
            "\"У нас каждая смена, как маленькая семья. Естественно, все взрослые люди, все с разным темпераментом и характером, но чтобы они какие-то были критические, которые нужно было решать, вплоть до перехода из этой смены в другую, потому что не нашли общего языка, нет, у меня таких вопросов не было\".'\n",
            "--------------------------------------------------\n",
            "'Хотчу скать, шо работа в ЦМФ - ето просто супеRRR! Зарплата, конечно, выше чем в \"Скиррисе\", а скидки на масле в наших маслостанциях просто бомба!  💣 123  \n",
            "'\n",
            "Хочу сказать, что работа в ЦМФ - это просто суперRR! Зарплата, конечно, выше, чем в \"Скиррисе\", а скидки на масле в наших маслостанциях - просто бомба! \n",
            "У 123 '\n",
            "--------------------------------------------------\n",
            "'В ЦМФ, так ска3ть, зарплата вроде и не малaя, но вот возможности для роста, так ска3ть, ограничены. Я, так ска3ть, ужe полгода как технолог, но всё эшe на том же уровне, так ска3ть, как и пришел. В \"Коимбрах Масел\", так ска3ть, говорЯт, что продвижение по карьерной лестнице там, так ска3ть, более динамичное. Вот и думaю, так ска3ть, стоит ли менять работу. \n",
            "\n",
            "\n",
            "'\n",
            "В ЦМФ - так скауть, зарплата вроде и немалaя, но вот возможности для роста, так скауть, ограничены. Я, так скауть, ужe полгода как технолог, но всё эшe на том же уровне, так скауть, как и пришёл. В \"Коимбрах Масел\", так скауть, говорят, что продвижение по карьерной лестнице там, так скауть, более динамичное. Вот и думaю, так скауть, стоит ли менять работу.'\n",
            "--------------------------------------------------\n",
            "'«Как бы нет, она на собеседовании сказала «где-то нужно будет мыть пол», помыть пол, как-то следить за порядком, когда нет уборщицы, но потом, когда мне сказали уже даже не руководитель, а девочки, которые… Они мне сказали, что «нужно мыть туалет, если тебе об этом не сказали, мы тебе скажем»»'\n",
            "\"Как бы нет\", она на собеседовании сказала: \"Где-то нужно будет мыть пол, помыть пол, как-то следить за порядком, когда нет уборщицы, но потом, когда мне сказали, уже даже не руководитель, а девочки, которые... Они мне сказали, что \"нужно мыть туалет, если тебе об этом не сказали, мы тебе скажем\".'\n",
            "--------------------------------------------------\n",
            "'Гномська музiка - этo нормaльнь! Рaботаать леiше 2 \n",
            "\n",
            "'\n",
            "Гномська музiка - этo нормaльно! Рaботать легiше 2'й.'\n",
            "--------------------------------------------------\n",
            "'«Деллать всё возможн0, ввсё нормaльно, но единственное, говворрю, что на наашей ЗМС такие сложностии, что у нас убрали этих лююдей всь0, в ээтом смeнсе, что рaзрываешься, не успеваешь, делаешь то, бежишь, делаешь то, ббежишь  обслуживаешь, вот только единственное.. А так всё хорошо, и готовишь тоже нормaльно, умеешь готтовить, людей обслуживаешь, ничего в этом сложного нет, убраться помочь, пойти порядки наавести, в этом тоже, товвар помочь раскладывать — тоже нииичего сссложнного, просто говорю, сейчас это всё  вместе в кучу, немнноого это всё не ууспеваешь вовремя делать.  А так  всё,  ничего сложного особо нетт, если ты это всё умеешь делать, всё знaешь» \n",
            "\n",
            "\n",
            "'\n",
            "\"Делать всё возможно\", - всё нормaльно, но единственное, говорю, что на нашей ЗМС такие сложности, что у нас убрали этих людей всё - в этом смeнсе, что рaзрываешься, не успеваешь, делаешь то, бежишь, делаешь то, бежишь, обслуживаешь, вот только единственное... А так всё хорошо, и готовишь тоже нормaльно, умеешь готовить, людей обслуживаешь, ничего в этом сложного нет, убраться помочь, пойти порядки навести, в этом тоже. Товар помочь раскладывать — тоже ничего сложного, просто говорю, сейчас это всё вместе в кучу, немного это всё не успеваешь вовремя делать. А так всё, ничего сложного особо нет, если ты это всё умеешь делать, всё знаёшь\". '\n",
            "--------------------------------------------------\n",
            "'Старый Уг... хреновская дыра, скажу я вам.  Щащ, помню, как мы, разработчики, крутили над новыми формулами, а в воздухе висел этот масляный пар...  Вскоре у многих мутации появились.  Шшш...  даже в \"Золотом Колесе\" потом слухи ходили, что их люди тоже страдают.  \n",
            "'\n",
            "Старый Уг... хреновская дыра, скажу я вам. Щащ, помню, как мы, разработчики, крутили над новыми формулами, а в воздухе висел этот масляный пар. Вскоре у многих мутации появились. Шшш... Даже в \"Золотом колёсе\" потом слухи ходили, что их люди тоже страдают.'\n",
            "--------------------------------------------------\n",
            "'Походу, эти проклятые мыши на маслозаводах, как грибы после дождя, размножаются.  Уже не первый раз слышу жалобы от ребят, что по ночам  в цехах ползают.  Может, \"Змей\" какие-то меры предосторожности предпримет?  \n",
            "'\n",
            "Походу, эти проклятые мыши на маслозаводах, как грибы после дождя, размножаются. Уже не первый раз слышу жалобы от ребят, что по ночам в цехах ползают. Может, \"Змей\" какие-то меры предосторожности предпримет?'\n",
            "--------------------------------------------------\n"
          ]
        }
      ]
    },
    {
      "cell_type": "markdown",
      "source": [
        "### 1.3 Предобработка текстов"
      ],
      "metadata": {
        "id": "z6lLeaM1BOTq"
      }
    },
    {
      "cell_type": "code",
      "source": [
        "def find_common_bigrams(text_list):\n",
        "    bigram_counts = Counter()\n",
        "    for text in text_list:\n",
        "        tokens = text.split()\n",
        "        bigrams = ngrams(tokens, 1)\n",
        "        bigram_counts.update(bigrams)\n",
        "    return bigram_counts.most_common()\n",
        "\n",
        "bigram_counts = find_common_bigrams(quotes)\n",
        "print(bigram_counts)"
      ],
      "metadata": {
        "id": "nPoEMgUb21NH"
      },
      "execution_count": null,
      "outputs": []
    },
    {
      "cell_type": "code",
      "source": [
        "# Инициализация для русского языка\n",
        "spell = SpellChecker(language='ru')\n",
        "\n",
        "def preprocess_text(text):\n",
        "    # Приведение к нижнему регистру\n",
        "    text = text.lower()\n",
        "\n",
        "    # Удаление повторяющихся символов (например, \"оооо\" -> \"о\")\n",
        "    text = re.sub(r'(.)\\1{1,}', r'\\1', text)\n",
        "\n",
        "    # Удаление знаков препинания (если не нужны)\n",
        "    text = text.translate(str.maketrans('', '', string.punctuation))\n",
        "\n",
        "    # Удаление стоп-слов\n",
        "    words = text.split()\n",
        "    words = [abbreviations[word] if word in abbreviations.keys() else word for word in words]\n",
        "    text = ' '.join([word for word in words if word not in stop_words])\n",
        "\n",
        "    #words = text.split()\n",
        "    #corrected_words = [spell.correction(word) if spell.correction(word) is not None else word for word in words]\n",
        "    #return ' '.join(corrected_words)\n",
        "\n",
        "    return text\n",
        "\n",
        "preprocessed_quotes = [preprocess_text(quote) for quote in quotes]"
      ],
      "metadata": {
        "id": "V582_fmLKe6O"
      },
      "execution_count": null,
      "outputs": []
    },
    {
      "cell_type": "code",
      "source": [
        "print(quotes[1])\n",
        "print(preprocessed_quotes[1])"
      ],
      "metadata": {
        "colab": {
          "base_uri": "https://localhost:8080/"
        },
        "id": "xLLscOUDLeqM",
        "outputId": "a5488725-d85f-42b3-9fbd-528bbb676999"
      },
      "execution_count": null,
      "outputs": [
        {
          "output_type": "stream",
          "name": "stdout",
          "text": [
            "Программы повышения квалификации через гильдию ЦМФ, хитрые, хитрые.  У всех, кто хочет повышаться, есть свои предпочтения и направления, а гильдия... гильдия толкает свое, не всегда то, что нужно сотрудникам.  В \"Белых Змеях\", например,  программы гибче,  и сотрудники сами выбирают, что им нужно. \n",
            "\n",
            "програмы повышения квалификаци гильдию цмф хитрые хитрые хочет повышаться свои предпочтения направления гильдия гильдия толкает свое не нужно сотрудникам белых змеях например програмы гибче сотрудники сами выбирают нужно\n"
          ]
        }
      ]
    },
    {
      "cell_type": "code",
      "source": [
        "# Шаг 1: Собираем уникальные слова из всех текстов\n",
        "unique_words = set(word for quote in preprocessed_quotes[:1] for word in quote.split())\n",
        "\n",
        "# Шаг 2: Формируем словарь предполагаемых исправлений\n",
        "correction_dict = {}\n",
        "for word in unique_words:\n",
        "    if word not in spell:  # Если слово считается ошибочным\n",
        "        correction_dict[word] = spell.correction(word)\n",
        "\n",
        "# Шаг 3: Печатаем словарь для ручной проверки и корректировки\n",
        "print(\"Словарь предложенных исправлений:\")\n",
        "for original, correction in correction_dict.items():\n",
        "    print(f\"{original}: {correction}\")\n",
        "\n",
        "\"\"\"\n",
        "# Ручная корректировка (пример)\n",
        "correction_dict[\"класный\"] = \"классный\"\n",
        "correction_dict[\"Привеетт\"] = \"Привет\"\n",
        "\n",
        "# Шаг 4: Применение исправлений к тексту\n",
        "def correct_text_with_dict(text, correction_dict):\n",
        "    words = text.split()\n",
        "    corrected_words = [correction_dict.get(word, word) for word in words]\n",
        "    return ' '.join(corrected_words)\n",
        "\n",
        "# Пример использования\n",
        "text = \"Привеетт всем, это класный день\"\n",
        "corrected_text = correct_text_with_dict(text, correction_dict)\n",
        "print(\"Исправленный текст:\", corrected_text)\n",
        "\"\"\""
      ],
      "metadata": {
        "colab": {
          "base_uri": "https://localhost:8080/",
          "height": 417
        },
        "id": "0ILzq4IeEMcb",
        "outputId": "3c0e764c-f5d9-41f5-a71d-4c83270e9f81"
      },
      "execution_count": null,
      "outputs": [
        {
          "output_type": "stream",
          "name": "stdout",
          "text": [
            "Словарь предложенных исправлений:\n",
            "грохаются: None\n",
            "полxа: пола\n",
            "таре: тара\n",
            "«у: у\n",
            "стекляной: None\n",
            "както: като\n",
            "лужа: луна\n",
            "5: 5\n",
            "ночi: ночь\n",
            "бутылками»: None\n",
            "картинке: картинка\n",
            "выставлять: заставлять\n",
            "первыи: первый\n",
            "расчитывают: рассчитываю\n",
            "определёной: определённо\n"
          ]
        },
        {
          "output_type": "execute_result",
          "data": {
            "text/plain": [
              "'\\n# Ручная корректировка (пример)\\ncorrection_dict[\"класный\"] = \"классный\"\\ncorrection_dict[\"Привеетт\"] = \"Привет\"\\n\\n# Шаг 4: Применение исправлений к тексту\\ndef correct_text_with_dict(text, correction_dict):\\n    words = text.split()\\n    corrected_words = [correction_dict.get(word, word) for word in words]\\n    return \\' \\'.join(corrected_words)\\n\\n# Пример использования\\ntext = \"Привеетт всем, это класный день\"\\ncorrected_text = correct_text_with_dict(text, correction_dict)\\nprint(\"Исправленный текст:\", corrected_text)\\n'"
            ],
            "application/vnd.google.colaboratory.intrinsic+json": {
              "type": "string"
            }
          },
          "metadata": {},
          "execution_count": 127
        }
      ]
    },
    {
      "cell_type": "code",
      "source": [
        "edit_distance('цмф', 'мы')"
      ],
      "metadata": {
        "colab": {
          "base_uri": "https://localhost:8080/"
        },
        "id": "-AZ5CfsVB7kp",
        "outputId": "21f449e9-cc24-4ede-d2cf-9cd3a7847dff"
      },
      "execution_count": null,
      "outputs": [
        {
          "output_type": "execute_result",
          "data": {
            "text/plain": [
              "2"
            ]
          },
          "metadata": {},
          "execution_count": 86
        }
      ]
    },
    {
      "cell_type": "code",
      "source": [
        "word='Привеетт'\n",
        "\n",
        "correction = spell.correction(word)\n",
        "\n",
        "if spell.known([correction]) and edit_distance(word, correction) < 2:\n",
        "    print(correction)\n",
        "else:\n",
        "    print(word)"
      ],
      "metadata": {
        "colab": {
          "base_uri": "https://localhost:8080/"
        },
        "id": "wmI94bxI8rRD",
        "outputId": "37e8b5cf-106a-4a78-95d3-7328ca7b99a2"
      },
      "execution_count": null,
      "outputs": [
        {
          "output_type": "stream",
          "name": "stdout",
          "text": [
            "привет\n"
          ]
        }
      ]
    },
    {
      "cell_type": "code",
      "source": [
        "# Инициализация для русского языка\n",
        "spell = SpellChecker(language='ru')\n",
        "\n",
        "def preprocess_text(text):\n",
        "    # Приведение к нижнему регистру\n",
        "    text = text.lower()\n",
        "\n",
        "    # Удаление повторяющихся символов (например, \"оооо\" -> \"о\")\n",
        "    text = re.sub(r'(.)\\1{1,}', r'\\1', text)\n",
        "\n",
        "    # Удаление знаков препинания (если не нужны)\n",
        "    text = text.translate(str.maketrans('', '', string.punctuation))\n",
        "\n",
        "    # Удаление стоп-слов\n",
        "    words = text.split()\n",
        "    text = ' '.join([word for word in words if word not in stop_words])\n",
        "\n",
        "    words = text.split()\n",
        "    corrected_words = [spell.correction(word) if word not in spell else word for word in words]\n",
        "    return ' '.join(corrected_words)\n",
        "\n",
        "    return text\n",
        "\n",
        "# Пример текста\n",
        "text = \"Привеетт!! Как дела???😊😊😊 Как твоя раб0тта в ЦМФ?\"\n",
        "\n",
        "# Предобработка текста\n",
        "preprocessed_text = preprocess_text(text)\n",
        "print(\"Предобработанный текст:\", preprocessed_text)\n"
      ],
      "metadata": {
        "colab": {
          "base_uri": "https://localhost:8080/"
        },
        "id": "hXkiZ5zV3Ti5",
        "outputId": "14ee12aa-ed4c-4239-c440-d04bfccd5264"
      },
      "execution_count": null,
      "outputs": [
        {
          "output_type": "stream",
          "name": "stdout",
          "text": [
            "Предобработанный текст: привет делай твоя работа мы\n"
          ]
        }
      ]
    },
    {
      "cell_type": "markdown",
      "source": [
        "## 2.1 Основная часть"
      ],
      "metadata": {
        "id": "EwnT1M3pJuRS"
      }
    },
    {
      "cell_type": "markdown",
      "source": [
        "## 2.1.1 Генерация тегов"
      ],
      "metadata": {
        "id": "yD3EQBUh22eS"
      }
    },
    {
      "cell_type": "code",
      "source": [
        "llm = Llama.from_pretrained(\n",
        "\trepo_id=\"RefalMachine/ruadapt_qwen2.5_3B_ext_u48_instruct_v4_gguf\",\n",
        "\tfilename=\"FP16.gguf\",\n",
        "  use_gpu=True,\n",
        "  device_map=\"auto\",\n",
        "  n_ctx=2048\n",
        ")"
      ],
      "metadata": {
        "id": "fwH2u7qypX0P"
      },
      "execution_count": null,
      "outputs": []
    },
    {
      "cell_type": "code",
      "source": [
        "import ctypes\n",
        "\n",
        "# Получение указателя на функцию mlock\n",
        "libc = ctypes.CDLL(\"libc.so.6\")  # Для Linux; на macOS используйте \"libSystem.dylib\"\n",
        "mlock = libc.mlock\n",
        "\n",
        "# Блокировка памяти для предотвращения выгрузки\n",
        "def lock_memory(address, length):\n",
        "    result = mlock(address, length)\n",
        "    if result != 0:\n",
        "        raise RuntimeError(\"Ошибка при вызове mlock для блокировки памяти\")\n",
        "\n",
        "# Получение размера памяти модели (например, 1 ГБ)\n",
        "model_memory_size = 1 * 1024 * 1024 * 1024 * 12  # 1 ГБ\n",
        "address = ctypes.c_void_p(id(llm))  # Получаем адрес объекта модели\n",
        "\n",
        "lock_memory(address, model_memory_size)\n"
      ],
      "metadata": {
        "id": "4O1X5UzF6JB2"
      },
      "execution_count": null,
      "outputs": []
    },
    {
      "cell_type": "code",
      "source": [
        "unique_tags = []\n",
        "for text in quotes[0:10]:\n",
        "  print(text)\n",
        "  prompt = (\n",
        "      f\"Далее будет дан текст. Для него нужно сгенерировать от 5 до 10 \\\n",
        "      тегов (длиной от одного до трёх слов), точно описывающих то, что \\\n",
        "      происходит в тексте и о чём или о ком говориться в нём. Если в тексте есть имена собственные или аббревиатуры, обязательно добавляй их в теги.\\\n",
        "      Пример, дан текст: Мурр... Новиград - город контрастов, да. Но в ЦМФ, как и в других ЗМС, люди превратились в котов, все заняты только собой. Никто не хочет протянуть лапку товарищу, помочь с грузом. Все в напряжении, в спешке. Мурр, раньше было лучше, когда работали втроем, а не порознь.\\\n",
        "      Теги: Новиград, ЦМФ, ЗМС, эгоизм, раньше было лучше, Работа\"\n",
        "      f\"Текст: {text}; \\n Теги:\"\n",
        "  )\n",
        "\n",
        "  tags = generate_tags(prompt, llm)\n",
        "  unique_tags.extend(tags)\n",
        "  print(\"Generated tags:\", tags)\n",
        "\n",
        "# Удаление дубликатов\n",
        "unique_tags = list(set(unique_tags))"
      ],
      "metadata": {
        "colab": {
          "base_uri": "https://localhost:8080/"
        },
        "id": "7ltqCyL2oS88",
        "outputId": "6d79249a-c8f6-4449-f632-255f4b405f8d"
      },
      "execution_count": null,
      "outputs": [
        {
          "output_type": "stream",
          "name": "stdout",
          "text": [
            "«У ннас среди ночi в райооне 55 часов упала полxа с водой в сттеклянной  таре, тоесть, посреди этой лужа, сстеккла, всёё, это уже поод утро, кстати, ээто не перрвыи раз,,, они сами по себе падают, как-то неправилььно рассчитывают, мы же должны выставлять по определённой картинке, у нас при мне было уже пару раз, чтоо сами по себе грохаются эти полки с буттылками» \n",
            "\n",
            "\n",
            "\n"
          ]
        },
        {
          "output_type": "stream",
          "name": "stderr",
          "text": [
            "Llama.generate: 3 prefix-match hit, remaining 311 prompt tokens to eval\n",
            "llama_perf_context_print:        load time =   41866.94 ms\n",
            "llama_perf_context_print: prompt eval time =       0.00 ms /   311 tokens (    0.00 ms per token,      inf tokens per second)\n",
            "llama_perf_context_print:        eval time =       0.00 ms /    25 runs   (    0.00 ms per token,      inf tokens per second)\n",
            "llama_perf_context_print:       total time =   57022.62 ms /   336 tokens\n",
            "Llama.generate: 186 prefix-match hit, remaining 88 prompt tokens to eval\n"
          ]
        },
        {
          "output_type": "stream",
          "name": "stdout",
          "text": [
            "Generated tags: ['Уличные инциденты', 'полxа с водой', 'водно-опасные предметы', 'расчётные ошибки', 'безопасность в районе']\n",
            "Программы повышения квалификации через гильдию ЦМФ, хитрые, хитрые.  У всех, кто хочет повышаться, есть свои предпочтения и направления, а гильдия... гильдия толкает свое, не всегда то, что нужно сотрудникам.  В \"Белых Змеях\", например,  программы гибче,  и сотрудники сами выбирают, что им нужно. \n",
            "\n"
          ]
        },
        {
          "output_type": "stream",
          "name": "stderr",
          "text": [
            "llama_perf_context_print:        load time =   41866.94 ms\n",
            "llama_perf_context_print: prompt eval time =       0.00 ms /    88 tokens (    0.00 ms per token,      inf tokens per second)\n",
            "llama_perf_context_print:        eval time =       0.00 ms /    15 runs   (    0.00 ms per token,      inf tokens per second)\n",
            "llama_perf_context_print:       total time =   20571.85 ms /   103 tokens\n",
            "Llama.generate: 186 prefix-match hit, remaining 93 prompt tokens to eval\n"
          ]
        },
        {
          "output_type": "stream",
          "name": "stdout",
          "text": [
            "Generated tags: ['ЦМФ', 'гильдия', 'повышения квалификации', 'предпочтения', 'гибкие программы']\n",
            "\"Мурр... Новиград - город контрастов, да. Но в ЦМФ, как и в других ЗМС, люди превратились в котов, все заняты только собой. Никто не хочет протянуть лапку товарищу, помочь с грузом. Все в напряжении, в спешке. Мурр, раньше было лучше, когда работали втроем, а не порознь. \" \n",
            "\n"
          ]
        },
        {
          "output_type": "stream",
          "name": "stderr",
          "text": [
            "llama_perf_context_print:        load time =   41866.94 ms\n",
            "llama_perf_context_print: prompt eval time =       0.00 ms /    93 tokens (    0.00 ms per token,      inf tokens per second)\n",
            "llama_perf_context_print:        eval time =       0.00 ms /    25 runs   (    0.00 ms per token,      inf tokens per second)\n",
            "llama_perf_context_print:       total time =   27847.97 ms /   118 tokens\n",
            "Llama.generate: 186 prefix-match hit, remaining 63 prompt tokens to eval\n"
          ]
        },
        {
          "output_type": "stream",
          "name": "stdout",
          "text": [
            "Generated tags: ['Мурр', 'Новиград', 'ЦМФ', 'ЗМС', 'эгоизм', 'раньше было лучше', 'РаботаТекст']\n",
            "Типа, вот уже полгода, как мы ждем установки этих фильтров на маслобазе.  Думаю, если бы \"Бесконечные Огненные Огни\" не затягивали с поставками, то уже давно бы все было в порядке. \n",
            "\n"
          ]
        },
        {
          "output_type": "stream",
          "name": "stderr",
          "text": [
            "llama_perf_context_print:        load time =   41866.94 ms\n",
            "llama_perf_context_print: prompt eval time =       0.00 ms /    63 tokens (    0.00 ms per token,      inf tokens per second)\n",
            "llama_perf_context_print:        eval time =       0.00 ms /    25 runs   (    0.00 ms per token,      inf tokens per second)\n",
            "llama_perf_context_print:       total time =   24523.02 ms /    88 tokens\n",
            "Llama.generate: 186 prefix-match hit, remaining 74 prompt tokens to eval\n"
          ]
        },
        {
          "output_type": "stream",
          "name": "stdout",
          "text": [
            "Generated tags: ['установка', 'Фильтры', 'маслобаза', 'ожидания', '\"Бесконечные Огненные Огни\"', 'поставка']\n",
            "\"Теперь всьё так просто! Раньше бумажки летали, терялись, искать приходилось по всему Зеленосу. А теперь всё в одном месте, на плантирe.  Вся инфoрмaция под руkой, ничо не пропалaют.  Работать стало гораздо удобнее!\" \n",
            "\n"
          ]
        },
        {
          "output_type": "stream",
          "name": "stderr",
          "text": [
            "llama_perf_context_print:        load time =   41866.94 ms\n",
            "llama_perf_context_print: prompt eval time =       0.00 ms /    74 tokens (    0.00 ms per token,      inf tokens per second)\n",
            "llama_perf_context_print:        eval time =       0.00 ms /    12 runs   (    0.00 ms per token,      inf tokens per second)\n",
            "llama_perf_context_print:       total time =   18987.30 ms /    86 tokens\n",
            "Llama.generate: 186 prefix-match hit, remaining 86 prompt tokens to eval\n"
          ]
        },
        {
          "output_type": "stream",
          "name": "stdout",
          "text": [
            "Generated tags: ['Зеленос', 'плантир', 'удобство', 'информация', 'потеря']\n",
            "«— Расказыыывалии  лии  ввам, м0жет быть, рууководител или кто-то из коллег,  сс точкии зрення ЦМФ,,,, как можно развиваатся  далльшее, какие еессть пррограммыы для  сотруднниик0в?  — Нет, нее было» \n",
            "\n"
          ]
        },
        {
          "output_type": "stream",
          "name": "stderr",
          "text": [
            "llama_perf_context_print:        load time =   41866.94 ms\n",
            "llama_perf_context_print: prompt eval time =       0.00 ms /    86 tokens (    0.00 ms per token,      inf tokens per second)\n",
            "llama_perf_context_print:        eval time =       0.00 ms /    17 runs   (    0.00 ms per token,      inf tokens per second)\n",
            "llama_perf_context_print:       total time =   21474.09 ms /   103 tokens\n",
            "Llama.generate: 186 prefix-match hit, remaining 90 prompt tokens to eval\n"
          ]
        },
        {
          "output_type": "stream",
          "name": "stdout",
          "text": [
            "Generated tags: ['ЦМФ', 'Развитие', 'Программы', 'Сотрудники', 'Зренья', 'Руководство']\n",
            "Типа, раньше все масла ЦМФ были одинаковые, а теперь вот, разный спрос. В Новиграде, типа, богатые на \"Огненный дракон\" гоняются, а простые люди на \"Лесной дух\" - типа, подешевле.  Вот и приходится нам, лаборантам, все время новые рецепты выдумывать, чтоб всем угодить. \n",
            "\n"
          ]
        },
        {
          "output_type": "stream",
          "name": "stderr",
          "text": [
            "llama_perf_context_print:        load time =   41866.94 ms\n",
            "llama_perf_context_print: prompt eval time =       0.00 ms /    90 tokens (    0.00 ms per token,      inf tokens per second)\n",
            "llama_perf_context_print:        eval time =       0.00 ms /    14 runs   (    0.00 ms per token,      inf tokens per second)\n",
            "llama_perf_context_print:       total time =   20421.73 ms /   104 tokens\n",
            "Llama.generate: 186 prefix-match hit, remaining 81 prompt tokens to eval\n"
          ]
        },
        {
          "output_type": "stream",
          "name": "stdout",
          "text": [
            "Generated tags: ['ЦМФ', 'масла', 'богатые', 'подешевле', 'рецепты']\n",
            "-С  Старшим технологом на маслoперерабатывающую станцию попасть - это как в \"Зачарованные Огненные Драконы\" попасть -с, говриот, там условия просто шикарные, а зарплата -с... Ну, в обшем, мечта любой лабораторной крысы -с.  \n",
            "\n"
          ]
        },
        {
          "output_type": "stream",
          "name": "stderr",
          "text": [
            "llama_perf_context_print:        load time =   41866.94 ms\n",
            "llama_perf_context_print: prompt eval time =       0.00 ms /    81 tokens (    0.00 ms per token,      inf tokens per second)\n",
            "llama_perf_context_print:        eval time =       0.00 ms /    10 runs   (    0.00 ms per token,      inf tokens per second)\n",
            "llama_perf_context_print:       total time =   16545.01 ms /    91 tokens\n",
            "Llama.generate: 186 prefix-match hit, remaining 68 prompt tokens to eval\n"
          ]
        },
        {
          "output_type": "stream",
          "name": "stdout",
          "text": [
            "Generated tags: ['технолог', 'станция', 'зарплаты', 'мечты', 'Крыса']\n",
            "Вот, знаете, раньше приходилось порой подолгу ждать, пока заправишся. А сейчас, с этoй предоплатой, всё так гладко!  Заезжаешь, оплачиваешь, и вперёд!  Никаких очередей, никаких задержек. Просто супер! \n",
            "\n"
          ]
        },
        {
          "output_type": "stream",
          "name": "stderr",
          "text": [
            "llama_perf_context_print:        load time =   41866.94 ms\n",
            "llama_perf_context_print: prompt eval time =       0.00 ms /    68 tokens (    0.00 ms per token,      inf tokens per second)\n",
            "llama_perf_context_print:        eval time =       0.00 ms /    19 runs   (    0.00 ms per token,      inf tokens per second)\n",
            "llama_perf_context_print:       total time =   19524.02 ms /    87 tokens\n",
            "Llama.generate: 186 prefix-match hit, remaining 105 prompt tokens to eval\n"
          ]
        },
        {
          "output_type": "stream",
          "name": "stdout",
          "text": [
            "Generated tags: ['Теги: ожидание', 'заправка', 'предоплата', 'очередь', 'задержка', 'комфорт']\n",
            "Ну, вот, в Карбоне, например, всё норaльно. Вода чистая, прямо из крана. А вот в глубинке, где ЗМС открываються в новыx меcтах, бывает, приходится жdacь доставки.  Иногда, прав4а, бывает, что... э-э... что вода не такая чиcтая, как хоч4лось бы. Но, в обшему, всё терпимо. \n",
            "\n"
          ]
        },
        {
          "output_type": "stream",
          "name": "stderr",
          "text": [
            "llama_perf_context_print:        load time =   41866.94 ms\n",
            "llama_perf_context_print: prompt eval time =       0.00 ms /   105 tokens (    0.00 ms per token,      inf tokens per second)\n",
            "llama_perf_context_print:        eval time =       0.00 ms /    19 runs   (    0.00 ms per token,      inf tokens per second)\n",
            "llama_perf_context_print:       total time =   25538.38 ms /   124 tokens\n"
          ]
        },
        {
          "output_type": "stream",
          "name": "stdout",
          "text": [
            "Generated tags: ['Карбоновая вода', 'ЗМС', 'добыча', 'неочевидные трудности', 'терпимость']\n"
          ]
        }
      ]
    },
    {
      "cell_type": "code",
      "source": [
        "for text in quotes[12:15]:\n",
        "  print(text)\n",
        "  prompt = (\n",
        "          f\"Есть ряд тегов, перечисленных через запятую: {', '.join(unique_tags)}\"\n",
        "          \"Далее будет дан текст. Выбери 5-7 из данного списка тегов только те, которые точно характеризуют данный текст. Смотри на ключевые слова или их синонимы. Но таких тегов может и не быть\\\n",
        "          Теги: Новиград, ЦМФ, ЗМС, эгоизм, раньше было лучше, Работа\"\n",
        "          f\"Текст: {text}\\n Теги:\"\n",
        "      )\n",
        "\n",
        "  tags = generate_tags(prompt, llm)\n",
        "  print(\"Generated tags:\", tags)"
      ],
      "metadata": {
        "colab": {
          "base_uri": "https://localhost:8080/"
        },
        "id": "aKUaB--Sr_vp",
        "outputId": "03db977a-4d6c-4897-b720-0fc990b05611"
      },
      "execution_count": null,
      "outputs": [
        {
          "output_type": "stream",
          "name": "stdout",
          "text": [
            "«У нас каждая смена, как маленькая семья. Естественно, все взрослые люди, все с разным темпераментом и характером, но чтобы они какие-то были критические, которые нужно было решать, вплоть до перехода из этой смены в другую, потому что не нашли общего языка, нет, у меня таких вопросов не было»\n"
          ]
        },
        {
          "output_type": "stream",
          "name": "stderr",
          "text": [
            "Llama.generate: 236 prefix-match hit, remaining 98 prompt tokens to eval\n",
            "llama_perf_context_print:        load time =   41866.94 ms\n",
            "llama_perf_context_print: prompt eval time =       0.00 ms /    98 tokens (    0.00 ms per token,      inf tokens per second)\n",
            "llama_perf_context_print:        eval time =       0.00 ms /    31 runs   (    0.00 ms per token,      inf tokens per second)\n",
            "llama_perf_context_print:       total time =   31999.95 ms /   129 tokens\n",
            "Llama.generate: 261 prefix-match hit, remaining 68 prompt tokens to eval\n"
          ]
        },
        {
          "output_type": "stream",
          "name": "stdout",
          "text": [
            "Generated tags: ['ЗМС', 'эгоизм', 'раньше было лучше', 'РаботаТекст', 'Зренья', 'ЦМФ', 'Развитие', 'Крыса', 'Мурр.']\n",
            "Хотчу скать, шо работа в ЦМФ - ето просто супеRRR! Зарплата, конечно, выше чем в \"Скиррисе\", а скидки на масле в наших маслостанциях просто бомба!  💣 123  \n",
            "\n"
          ]
        },
        {
          "output_type": "stream",
          "name": "stderr",
          "text": [
            "llama_perf_context_print:        load time =   41866.94 ms\n",
            "llama_perf_context_print: prompt eval time =       0.00 ms /    68 tokens (    0.00 ms per token,      inf tokens per second)\n",
            "llama_perf_context_print:        eval time =       0.00 ms /    33 runs   (    0.00 ms per token,      inf tokens per second)\n",
            "llama_perf_context_print:       total time =   28880.37 ms /   101 tokens\n",
            "Llama.generate: 261 prefix-match hit, remaining 125 prompt tokens to eval\n"
          ]
        },
        {
          "output_type": "stream",
          "name": "stdout",
          "text": [
            "Generated tags: ['Теги: ЦМФ', 'Зарплата', 'Скидки', 'Маслостанция', 'РаботаТекст', 'Эгоизм', 'Раньше было лучше']\n",
            "В ЦМФ, так ска3ть, зарплата вроде и не малaя, но вот возможности для роста, так ска3ть, ограничены. Я, так ска3ть, ужe полгода как технолог, но всё эшe на том же уровне, так ска3ть, как и пришел. В \"Коимбрах Масел\", так ска3ть, говорЯт, что продвижение по карьерной лестнице там, так ска3ть, более динамичное. Вот и думaю, так ска3ть, стоит ли менять работу. \n",
            "\n",
            "\n",
            "\n"
          ]
        },
        {
          "output_type": "stream",
          "name": "stderr",
          "text": [
            "llama_perf_context_print:        load time =   41866.94 ms\n",
            "llama_perf_context_print: prompt eval time =       0.00 ms /   125 tokens (    0.00 ms per token,      inf tokens per second)\n",
            "llama_perf_context_print:        eval time =       0.00 ms /    18 runs   (    0.00 ms per token,      inf tokens per second)\n",
            "llama_perf_context_print:       total time =   27384.63 ms /   143 tokens\n"
          ]
        },
        {
          "output_type": "stream",
          "name": "stdout",
          "text": [
            "Generated tags: ['ЦМФ', 'ЗМС', 'эгоизм', 'раньше было лучше', 'повышение квалификации', 'развитие', 'сотрудники']\n"
          ]
        }
      ]
    },
    {
      "cell_type": "code",
      "source": [],
      "metadata": {
        "id": "JUA56egPDHMo"
      },
      "execution_count": null,
      "outputs": []
    }
  ]
}